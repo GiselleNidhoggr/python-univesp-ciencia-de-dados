{
  "nbformat": 4,
  "nbformat_minor": 0,
  "metadata": {
    "colab": {
      "name": "Testes com Python.ipynb",
      "provenance": [],
      "authorship_tag": "ABX9TyPPyTB4U/DwlZ8slaG1rrmz",
      "include_colab_link": true
    },
    "kernelspec": {
      "name": "python3",
      "display_name": "Python 3"
    },
    "language_info": {
      "name": "python"
    }
  },
  "cells": [
    {
      "cell_type": "markdown",
      "metadata": {
        "id": "view-in-github",
        "colab_type": "text"
      },
      "source": [
        "<a href=\"https://colab.research.google.com/github/GiselleOAlmeida/python-univesp-ciencia-de-dados/blob/main/Testes_com_Python.ipynb\" target=\"_parent\"><img src=\"https://colab.research.google.com/assets/colab-badge.svg\" alt=\"Open In Colab\"/></a>"
      ]
    },
    {
      "cell_type": "code",
      "metadata": {
        "colab": {
          "base_uri": "https://localhost:8080/"
        },
        "id": "Q2F-_u2uPMO8",
        "outputId": "77bd30a3-2dd8-4cf2-a7d5-e44012da2bb5"
      },
      "source": [
        "var1 = 12\n",
        "var2 = 30\n",
        "var3 = var1 + var2\n",
        "\n",
        "print(var3)\n",
        "\n",
        "var3 = var3 / 2\n",
        "\n",
        "print(var3)"
      ],
      "execution_count": null,
      "outputs": [
        {
          "output_type": "stream",
          "text": [
            "42\n",
            "21.0\n"
          ],
          "name": "stdout"
        }
      ]
    },
    {
      "cell_type": "code",
      "metadata": {
        "colab": {
          "base_uri": "https://localhost:8080/"
        },
        "id": "xrVfkFXpSv5K",
        "outputId": "24e957f9-59cf-4474-a2ad-b051d49fa44c"
      },
      "source": [
        "num1 = int(input(\"Digite um número a seguir: \"))\n",
        "\n",
        "dobro = 2*num1\n",
        "\n",
        "print(\"O dobro do número digitado é:\", dobro)"
      ],
      "execution_count": null,
      "outputs": [
        {
          "output_type": "stream",
          "text": [
            "Digite um número a seguir: 15\n",
            "O dobro do número digitado é: 30\n"
          ],
          "name": "stdout"
        }
      ]
    },
    {
      "cell_type": "code",
      "metadata": {
        "colab": {
          "base_uri": "https://localhost:8080/"
        },
        "id": "y6WV64gfTVXv",
        "outputId": "06ac49c4-cdeb-431f-bafe-c03dc9ffb386"
      },
      "source": [
        "x = 10\n",
        "y = 4.2\n",
        "\n",
        "num = float(input(\"Digite um número a seguir: \"))\n",
        "\n",
        "print(num > x*y, num <= x + y, num*y != x*y)\n",
        "print(num == x*y, num+y == x*y, y > x + num)"
      ],
      "execution_count": null,
      "outputs": [
        {
          "output_type": "stream",
          "text": [
            "Digite um número a seguir: 10\n",
            "False True False\n",
            "False False False\n"
          ],
          "name": "stdout"
        }
      ]
    },
    {
      "cell_type": "code",
      "metadata": {
        "colab": {
          "base_uri": "https://localhost:8080/"
        },
        "id": "ATWYPQssTpEd",
        "outputId": "42e55ce1-21c3-449f-a703-6f8c945e003b"
      },
      "source": [
        "print(num == x, num == y, num == x + y)"
      ],
      "execution_count": null,
      "outputs": [
        {
          "output_type": "stream",
          "text": [
            "True False False\n"
          ],
          "name": "stdout"
        }
      ]
    },
    {
      "cell_type": "code",
      "metadata": {
        "id": "RRiermAhTu1H"
      },
      "source": [
        ""
      ],
      "execution_count": null,
      "outputs": []
    },
    {
      "cell_type": "code",
      "metadata": {
        "colab": {
          "base_uri": "https://localhost:8080/"
        },
        "id": "GAiF6eefTxF8",
        "outputId": "815a2f8e-76de-443b-d13c-9389ce0fdb33"
      },
      "source": [
        "\n",
        "print(True, False, False)"
      ],
      "execution_count": null,
      "outputs": [
        {
          "output_type": "stream",
          "text": [
            "True False False\n"
          ],
          "name": "stdout"
        }
      ]
    },
    {
      "cell_type": "code",
      "metadata": {
        "colab": {
          "base_uri": "https://localhost:8080/",
          "height": 163
        },
        "id": "Pwc-0ZQ6T1IV",
        "outputId": "a2b2425a-57fd-494e-9ff6-4f94f18eb61b"
      },
      "source": [
        "print(num == x*y, numy == x*y, y > x + num)"
      ],
      "execution_count": null,
      "outputs": [
        {
          "output_type": "error",
          "ename": "NameError",
          "evalue": "ignored",
          "traceback": [
            "\u001b[0;31m---------------------------------------------------------------------------\u001b[0m",
            "\u001b[0;31mNameError\u001b[0m                                 Traceback (most recent call last)",
            "\u001b[0;32m<ipython-input-15-5da56407ff84>\u001b[0m in \u001b[0;36m<module>\u001b[0;34m()\u001b[0m\n\u001b[0;32m----> 1\u001b[0;31m \u001b[0mprint\u001b[0m\u001b[0;34m(\u001b[0m\u001b[0mnum\u001b[0m \u001b[0;34m==\u001b[0m \u001b[0mx\u001b[0m\u001b[0;34m*\u001b[0m\u001b[0my\u001b[0m\u001b[0;34m,\u001b[0m \u001b[0mnumy\u001b[0m \u001b[0;34m==\u001b[0m \u001b[0mx\u001b[0m\u001b[0;34m*\u001b[0m\u001b[0my\u001b[0m\u001b[0;34m,\u001b[0m \u001b[0my\u001b[0m \u001b[0;34m>\u001b[0m \u001b[0mx\u001b[0m \u001b[0;34m+\u001b[0m \u001b[0mnum\u001b[0m\u001b[0;34m)\u001b[0m\u001b[0;34m\u001b[0m\u001b[0;34m\u001b[0m\u001b[0m\n\u001b[0m",
            "\u001b[0;31mNameError\u001b[0m: name 'numy' is not defined"
          ]
        }
      ]
    },
    {
      "cell_type": "code",
      "metadata": {
        "colab": {
          "base_uri": "https://localhost:8080/"
        },
        "id": "0v2B0oO1T4JI",
        "outputId": "c5a04eff-7aa5-4e1e-915b-78e790c5a885"
      },
      "source": [
        "print(False, True, True)"
      ],
      "execution_count": null,
      "outputs": [
        {
          "output_type": "stream",
          "text": [
            "False True True\n"
          ],
          "name": "stdout"
        }
      ]
    },
    {
      "cell_type": "code",
      "metadata": {
        "colab": {
          "base_uri": "https://localhost:8080/"
        },
        "id": "dHPEDaOTT6U_",
        "outputId": "c1d921a0-ed11-4961-f2fd-d7a3dc214933"
      },
      "source": [
        "x = 10\n",
        "y = 4.2\n",
        "\n",
        "num = float(input(\"Digite um número a seguir: \"))\n",
        "\n",
        "print(num > x*y, num <= x + y, num*y != x*y)"
      ],
      "execution_count": null,
      "outputs": [
        {
          "output_type": "stream",
          "text": [
            "Digite um número a seguir: 10\n",
            "False True False\n"
          ],
          "name": "stdout"
        }
      ]
    },
    {
      "cell_type": "code",
      "metadata": {
        "colab": {
          "base_uri": "https://localhost:8080/"
        },
        "id": "8G5AFJiZUiPO",
        "outputId": "b3739888-d72b-43eb-b3f6-5b804f2c9c78"
      },
      "source": [
        "print(num == x, num == y, num == x + y)"
      ],
      "execution_count": null,
      "outputs": [
        {
          "output_type": "stream",
          "text": [
            "True False False\n"
          ],
          "name": "stdout"
        }
      ]
    },
    {
      "cell_type": "code",
      "metadata": {
        "colab": {
          "base_uri": "https://localhost:8080/"
        },
        "id": "f639KmT0Uk2U",
        "outputId": "32fd1d8b-a8ea-4e07-cc6f-85cb8c773de2"
      },
      "source": [
        "print(2 == '2', False, 2.0 == 2)"
      ],
      "execution_count": null,
      "outputs": [
        {
          "output_type": "stream",
          "text": [
            "False False True\n"
          ],
          "name": "stdout"
        }
      ]
    },
    {
      "cell_type": "code",
      "metadata": {
        "colab": {
          "base_uri": "https://localhost:8080/"
        },
        "id": "IzyuksJxUoGf",
        "outputId": "2dc94004-da9d-47c3-8947-2823077919b6"
      },
      "source": [
        "print(num == x,y, y == x*y, y > x + num)"
      ],
      "execution_count": null,
      "outputs": [
        {
          "output_type": "stream",
          "text": [
            "False 10 False False\n"
          ],
          "name": "stdout"
        }
      ]
    },
    {
      "cell_type": "code",
      "metadata": {
        "colab": {
          "base_uri": "https://localhost:8080/"
        },
        "id": "mUHcczgIU15m",
        "outputId": "f66d7bed-192d-4b53-e0a8-9f57b6198847"
      },
      "source": [
        "x = 4.2\n",
        "y = 10\n",
        "z = \"42\"\n",
        "\n",
        "not (((x * y == z) and not (x < y)) or y % 2 == 0)"
      ],
      "execution_count": null,
      "outputs": [
        {
          "output_type": "execute_result",
          "data": {
            "text/plain": [
              "False"
            ]
          },
          "metadata": {
            "tags": []
          },
          "execution_count": 24
        }
      ]
    },
    {
      "cell_type": "code",
      "metadata": {
        "colab": {
          "base_uri": "https://localhost:8080/",
          "height": 163
        },
        "id": "VK8AqET0VBdE",
        "outputId": "4eb242af-2b16-4147-9abd-16419bbbed6e"
      },
      "source": [
        "not (((not True) or int(z) % 7 == 0) and ((str(int(x,y)) == z) and (type(x) != type(z))))"
      ],
      "execution_count": null,
      "outputs": [
        {
          "output_type": "error",
          "ename": "TypeError",
          "evalue": "ignored",
          "traceback": [
            "\u001b[0;31m---------------------------------------------------------------------------\u001b[0m",
            "\u001b[0;31mTypeError\u001b[0m                                 Traceback (most recent call last)",
            "\u001b[0;32m<ipython-input-32-f0bb4776c93f>\u001b[0m in \u001b[0;36m<module>\u001b[0;34m()\u001b[0m\n\u001b[0;32m----> 1\u001b[0;31m \u001b[0;32mnot\u001b[0m \u001b[0;34m(\u001b[0m\u001b[0;34m(\u001b[0m\u001b[0;34m(\u001b[0m\u001b[0;32mnot\u001b[0m \u001b[0;32mTrue\u001b[0m\u001b[0;34m)\u001b[0m \u001b[0;32mor\u001b[0m \u001b[0mint\u001b[0m\u001b[0;34m(\u001b[0m\u001b[0mz\u001b[0m\u001b[0;34m)\u001b[0m \u001b[0;34m%\u001b[0m \u001b[0;36m7\u001b[0m \u001b[0;34m==\u001b[0m \u001b[0;36m0\u001b[0m\u001b[0;34m)\u001b[0m \u001b[0;32mand\u001b[0m \u001b[0;34m(\u001b[0m\u001b[0;34m(\u001b[0m\u001b[0mstr\u001b[0m\u001b[0;34m(\u001b[0m\u001b[0mint\u001b[0m\u001b[0;34m(\u001b[0m\u001b[0mx\u001b[0m\u001b[0;34m,\u001b[0m\u001b[0my\u001b[0m\u001b[0;34m)\u001b[0m\u001b[0;34m)\u001b[0m \u001b[0;34m==\u001b[0m \u001b[0mz\u001b[0m\u001b[0;34m)\u001b[0m \u001b[0;32mand\u001b[0m \u001b[0;34m(\u001b[0m\u001b[0mtype\u001b[0m\u001b[0;34m(\u001b[0m\u001b[0mx\u001b[0m\u001b[0;34m)\u001b[0m \u001b[0;34m!=\u001b[0m \u001b[0mtype\u001b[0m\u001b[0;34m(\u001b[0m\u001b[0mz\u001b[0m\u001b[0;34m)\u001b[0m\u001b[0;34m)\u001b[0m\u001b[0;34m)\u001b[0m\u001b[0;34m)\u001b[0m\u001b[0;34m\u001b[0m\u001b[0;34m\u001b[0m\u001b[0m\n\u001b[0m",
            "\u001b[0;31mTypeError\u001b[0m: int() can't convert non-string with explicit base"
          ]
        }
      ]
    },
    {
      "cell_type": "code",
      "metadata": {
        "colab": {
          "base_uri": "https://localhost:8080/"
        },
        "id": "l7E3AxCQVEMV",
        "outputId": "3f59d841-9b0b-48ef-af15-ffca6720ff4c"
      },
      "source": [
        "\n",
        "(True and True) or not True"
      ],
      "execution_count": null,
      "outputs": [
        {
          "output_type": "execute_result",
          "data": {
            "text/plain": [
              "True"
            ]
          },
          "metadata": {
            "tags": []
          },
          "execution_count": 29
        }
      ]
    },
    {
      "cell_type": "code",
      "metadata": {
        "colab": {
          "base_uri": "https://localhost:8080/"
        },
        "id": "cmgJoLbZVM0q",
        "outputId": "9aed85b5-d1d0-4c45-a248-c6474caa5008"
      },
      "source": [
        "not ((x == y or True) and ((int(z) < x,y) and (type(y) == type(int(z)))))"
      ],
      "execution_count": null,
      "outputs": [
        {
          "output_type": "execute_result",
          "data": {
            "text/plain": [
              "False"
            ]
          },
          "metadata": {
            "tags": []
          },
          "execution_count": 30
        }
      ]
    },
    {
      "cell_type": "code",
      "metadata": {
        "colab": {
          "base_uri": "https://localhost:8080/",
          "height": 163
        },
        "id": "oeBqg6g8VYMz",
        "outputId": "5f67a8a4-50d1-43b4-fa11-b80100a84480"
      },
      "source": [
        "not (((not True) or int(z) % 7 == 0) and ((str(int(x,y)) == z) and (type(x) != type(z))))"
      ],
      "execution_count": null,
      "outputs": [
        {
          "output_type": "error",
          "ename": "TypeError",
          "evalue": "ignored",
          "traceback": [
            "\u001b[0;31m---------------------------------------------------------------------------\u001b[0m",
            "\u001b[0;31mTypeError\u001b[0m                                 Traceback (most recent call last)",
            "\u001b[0;32m<ipython-input-31-f0bb4776c93f>\u001b[0m in \u001b[0;36m<module>\u001b[0;34m()\u001b[0m\n\u001b[0;32m----> 1\u001b[0;31m \u001b[0;32mnot\u001b[0m \u001b[0;34m(\u001b[0m\u001b[0;34m(\u001b[0m\u001b[0;34m(\u001b[0m\u001b[0;32mnot\u001b[0m \u001b[0;32mTrue\u001b[0m\u001b[0;34m)\u001b[0m \u001b[0;32mor\u001b[0m \u001b[0mint\u001b[0m\u001b[0;34m(\u001b[0m\u001b[0mz\u001b[0m\u001b[0;34m)\u001b[0m \u001b[0;34m%\u001b[0m \u001b[0;36m7\u001b[0m \u001b[0;34m==\u001b[0m \u001b[0;36m0\u001b[0m\u001b[0;34m)\u001b[0m \u001b[0;32mand\u001b[0m \u001b[0;34m(\u001b[0m\u001b[0;34m(\u001b[0m\u001b[0mstr\u001b[0m\u001b[0;34m(\u001b[0m\u001b[0mint\u001b[0m\u001b[0;34m(\u001b[0m\u001b[0mx\u001b[0m\u001b[0;34m,\u001b[0m\u001b[0my\u001b[0m\u001b[0;34m)\u001b[0m\u001b[0;34m)\u001b[0m \u001b[0;34m==\u001b[0m \u001b[0mz\u001b[0m\u001b[0;34m)\u001b[0m \u001b[0;32mand\u001b[0m \u001b[0;34m(\u001b[0m\u001b[0mtype\u001b[0m\u001b[0;34m(\u001b[0m\u001b[0mx\u001b[0m\u001b[0;34m)\u001b[0m \u001b[0;34m!=\u001b[0m \u001b[0mtype\u001b[0m\u001b[0;34m(\u001b[0m\u001b[0mz\u001b[0m\u001b[0;34m)\u001b[0m\u001b[0;34m)\u001b[0m\u001b[0;34m)\u001b[0m\u001b[0;34m)\u001b[0m\u001b[0;34m\u001b[0m\u001b[0;34m\u001b[0m\u001b[0m\n\u001b[0m",
            "\u001b[0;31mTypeError\u001b[0m: int() can't convert non-string with explicit base"
          ]
        }
      ]
    },
    {
      "cell_type": "code",
      "metadata": {
        "colab": {
          "base_uri": "https://localhost:8080/"
        },
        "id": "uhWi6SD8VbTP",
        "outputId": "6567cefc-0208-4097-ca28-85a3c7269e2f"
      },
      "source": [
        "a = int(input(\"Digite o primeiro número inteiro: \"))\n",
        "b = int(input(\"Digite o segundo número inteiro: \"))\n",
        "c = int(input(\"Digite o terceiro número inteiro: \"))\n",
        "\n",
        "if a > b and a > c:\n",
        "    resposta = a % 2 == 0\n",
        "elif b > a and b > c:\n",
        "    resposta = b % 2 == 0\n",
        "else:\n",
        "    resposta = c % 2 == 0\n",
        "\n",
        "print(\"“O maior número entre os três informados é positivo?”\", resposta)"
      ],
      "execution_count": null,
      "outputs": [
        {
          "output_type": "stream",
          "text": [
            "Digite o primeiro número inteiro: 5\n",
            "Digite o segundo número inteiro: 5\n",
            "Digite o terceiro número inteiro: 38\n",
            "“O maior número entre os três informados é positivo?” True\n"
          ],
          "name": "stdout"
        }
      ]
    },
    {
      "cell_type": "code",
      "metadata": {
        "colab": {
          "base_uri": "https://localhost:8080/"
        },
        "id": "_FktdN-kWKuK",
        "outputId": "4c6d9f38-1fb3-4186-8417-514c7bcf94a3"
      },
      "source": [
        "x = int(input(\"Digite um número inteiro: \"))\n",
        "\n",
        "if x < 0:\n",
        "    resp1 = \"negativo\"\n",
        "else:\n",
        "    resp1 = \"positivo\"\n",
        "    \n",
        "if x % 2 == 0:\n",
        "    resp2 = \"par\"\n",
        "else:\n",
        "    resp2 = \"impar\"\n",
        "    \n",
        "\n",
        "print(\"O número {} é {} e {}.\".format(x, resp1, resp2))"
      ],
      "execution_count": null,
      "outputs": [
        {
          "output_type": "stream",
          "text": [
            "Digite um número inteiro: -42\n",
            "O número -42 é negativo e par.\n"
          ],
          "name": "stdout"
        }
      ]
    },
    {
      "cell_type": "code",
      "metadata": {
        "colab": {
          "base_uri": "https://localhost:8080/"
        },
        "id": "OVQ_Ln_oXgkp",
        "outputId": "667b797e-a8ed-422b-bf7b-559fff173205"
      },
      "source": [
        "cont = 0\n",
        "resultado = 0\n",
        "n = 3\n",
        "\n",
        "while cont != n:\n",
        "    resultado = resultado + 1/(2**cont)\n",
        "    cont = cont + 1\n",
        "\n",
        "print(resultado)"
      ],
      "execution_count": null,
      "outputs": [
        {
          "output_type": "stream",
          "text": [
            "1.75\n"
          ],
          "name": "stdout"
        }
      ]
    },
    {
      "cell_type": "code",
      "metadata": {
        "colab": {
          "base_uri": "https://localhost:8080/"
        },
        "id": "SLFCEzNGX5NS",
        "outputId": "ace7fd28-8e88-438f-d055-cb4aa4341ccc"
      },
      "source": [
        "(2+2)**2"
      ],
      "execution_count": null,
      "outputs": [
        {
          "output_type": "execute_result",
          "data": {
            "text/plain": [
              "16"
            ]
          },
          "metadata": {
            "tags": []
          },
          "execution_count": 48
        }
      ]
    },
    {
      "cell_type": "code",
      "metadata": {
        "colab": {
          "base_uri": "https://localhost:8080/"
        },
        "id": "BtjaFS76YFl6",
        "outputId": "be8544d6-f1cb-4c27-9e71-52617e51fc4c"
      },
      "source": [
        "for i in range(10):\n",
        "    print(\"Olá, mundo!\") "
      ],
      "execution_count": null,
      "outputs": [
        {
          "output_type": "stream",
          "text": [
            "Olá, mundo!\n",
            "Olá, mundo!\n",
            "Olá, mundo!\n",
            "Olá, mundo!\n",
            "Olá, mundo!\n",
            "Olá, mundo!\n",
            "Olá, mundo!\n",
            "Olá, mundo!\n",
            "Olá, mundo!\n",
            "Olá, mundo!\n"
          ],
          "name": "stdout"
        }
      ]
    },
    {
      "cell_type": "code",
      "metadata": {
        "colab": {
          "base_uri": "https://localhost:8080/"
        },
        "id": "MOYQZH2_ZA5d",
        "outputId": "94cf0a7b-f537-4f4c-a8fc-e4262b674077"
      },
      "source": [
        "for i in \"let's code\":\n",
        "    print(\"Olá, mundo!\")"
      ],
      "execution_count": null,
      "outputs": [
        {
          "output_type": "stream",
          "text": [
            "Olá, mundo!\n",
            "Olá, mundo!\n",
            "Olá, mundo!\n",
            "Olá, mundo!\n",
            "Olá, mundo!\n",
            "Olá, mundo!\n",
            "Olá, mundo!\n",
            "Olá, mundo!\n",
            "Olá, mundo!\n",
            "Olá, mundo!\n"
          ],
          "name": "stdout"
        }
      ]
    },
    {
      "cell_type": "code",
      "metadata": {
        "colab": {
          "base_uri": "https://localhost:8080/"
        },
        "id": "suyAiQR-ZD0M",
        "outputId": "a509b62d-c111-4094-a003-2a70594ca059"
      },
      "source": [
        "for _ in \" \"*10:\n",
        "    print(\"Olá, mundo!\")"
      ],
      "execution_count": null,
      "outputs": [
        {
          "output_type": "stream",
          "text": [
            "Olá, mundo!\n",
            "Olá, mundo!\n",
            "Olá, mundo!\n",
            "Olá, mundo!\n",
            "Olá, mundo!\n",
            "Olá, mundo!\n",
            "Olá, mundo!\n",
            "Olá, mundo!\n",
            "Olá, mundo!\n",
            "Olá, mundo!\n"
          ],
          "name": "stdout"
        }
      ]
    },
    {
      "cell_type": "code",
      "metadata": {
        "colab": {
          "base_uri": "https://localhost:8080/"
        },
        "id": "CDwvSg8XZJHG",
        "outputId": "b41cc6e7-2d5b-41c0-fc17-e6b10ef4c4af"
      },
      "source": [
        "for _ in range(10, 20, 1):\n",
        "    print(\"Olá, mundo!\")"
      ],
      "execution_count": null,
      "outputs": [
        {
          "output_type": "stream",
          "text": [
            "Olá, mundo!\n",
            "Olá, mundo!\n",
            "Olá, mundo!\n",
            "Olá, mundo!\n",
            "Olá, mundo!\n",
            "Olá, mundo!\n",
            "Olá, mundo!\n",
            "Olá, mundo!\n",
            "Olá, mundo!\n",
            "Olá, mundo!\n"
          ],
          "name": "stdout"
        }
      ]
    },
    {
      "cell_type": "code",
      "metadata": {
        "colab": {
          "base_uri": "https://localhost:8080/"
        },
        "id": "Eu8vfR-WZMhU",
        "outputId": "6f030c99-ece9-48bc-e225-0fb579773ceb"
      },
      "source": [
        "for _ in [10]:\n",
        "    print(\"Olá, mundo!\")"
      ],
      "execution_count": null,
      "outputs": [
        {
          "output_type": "stream",
          "text": [
            "Olá, mundo!\n"
          ],
          "name": "stdout"
        }
      ]
    },
    {
      "cell_type": "code",
      "metadata": {
        "colab": {
          "base_uri": "https://localhost:8080/"
        },
        "id": "EhBWNmXMZOyN",
        "outputId": "46524473-8063-4018-8366-f725c7d95a30"
      },
      "source": [
        "lista_inicial = [10, 5, -7, 6, -42, 63, -8, -5, 13]\n",
        "\n",
        "lista_final = []\n",
        "\n",
        "for item in lista_inicial:\n",
        "    if item % 2 == 0:\n",
        "        if item < 0:\n",
        "            lista_final.append(-item)\n",
        "        else:\n",
        "            lista_final.append(item)\n",
        "    else:\n",
        "        if item < 0:\n",
        "            lista_final.append(-2*item)\n",
        "        else:\n",
        "            lista_final.append(2*item)\n",
        "print(lista_final)\n"
      ],
      "execution_count": null,
      "outputs": [
        {
          "output_type": "stream",
          "text": [
            "[10, 10, 14, 6, 42, 126, 8, 10, 26]\n"
          ],
          "name": "stdout"
        }
      ]
    },
    {
      "cell_type": "code",
      "metadata": {
        "colab": {
          "base_uri": "https://localhost:8080/"
        },
        "id": "ZNai1agQZ30q",
        "outputId": "96c66421-c1d3-4f4d-b3a1-d7dd0109d1c6"
      },
      "source": [
        "[10, 10, 14, 6, 42, 126, 8, 10, 26]\n",
        "\n",
        "-item, item, -2*item, 2*item\n",
        "\n",
        "C.\n",
        "\n",
        "2*item, -2*item, item, -item\n",
        "\n",
        "D.\n",
        "\n",
        "item, -item, 2*item, -2*item\n",
        "\n",
        "E.\n",
        "\n",
        "-item, 2*item, -2*item, item\n"
      ],
      "execution_count": null,
      "outputs": [
        {
          "output_type": "stream",
          "text": [
            "[10]\n"
          ],
          "name": "stdout"
        }
      ]
    },
    {
      "cell_type": "code",
      "metadata": {
        "colab": {
          "base_uri": "https://localhost:8080/"
        },
        "id": "gm8fPfHCaU4T",
        "outputId": "443b2f2c-e494-4980-b19e-eff76128a9e2"
      },
      "source": [
        "animais = ['gato', 'coelho', 'macaco', 'girafa']\n",
        "\n",
        "animais.remove('gato')\n",
        "print(animais)\n",
        "print(len(animais))\n",
        "print(animais.index('coelho'))"
      ],
      "execution_count": null,
      "outputs": [
        {
          "output_type": "stream",
          "text": [
            "['coelho', 'macaco', 'girafa']\n",
            "3\n",
            "0\n"
          ],
          "name": "stdout"
        }
      ]
    },
    {
      "cell_type": "code",
      "metadata": {
        "id": "tZJQ6diGbGaA"
      },
      "source": [
        "cadastro = [\"da Silva, Dra. Maria Francisca\",\n",
        "            \"Santos de Souza, Sr. José Antônio\",\n",
        "            \"Lima Oliveira, Srta. Ana Paula\",\n",
        "            \"Pereira Costa, Dr. Antônio Marcos\",\n",
        "            \"Alves de Almeida, Sra. Fernanda\"]"
      ],
      "execution_count": null,
      "outputs": []
    },
    {
      "cell_type": "code",
      "metadata": {
        "colab": {
          "base_uri": "https://localhost:8080/"
        },
        "id": "dCHFtu73cF2A",
        "outputId": "b1ce373b-a263-4271-cb7b-3be81d24c61f"
      },
      "source": [
        "primeiros_nomes = []\n",
        "for x in cadastro:\n",
        "    primeiros_nomes.append(x.split(\". \")[0])\n",
        "\n",
        "sobrenomes = []\n",
        "for x in cadastro:\n",
        "    sobrenomes.append(x.split(\",\")[0])\n",
        "\n",
        "titulos = []\n",
        "for x in cadastro:\n",
        "    titulos.append(x.split(\".\")[-1].split(\", \")[0])\n",
        "\n",
        "print(primeiros_nomes,sobrenomes,titulos)"
      ],
      "execution_count": null,
      "outputs": [
        {
          "output_type": "stream",
          "text": [
            "['da Silva, Dra', 'Santos de Souza, Sr', 'Lima Oliveira, Srta', 'Pereira Costa, Dr', 'Alves de Almeida, Sra'] ['da Silva', 'Santos de Souza', 'Lima Oliveira', 'Pereira Costa', 'Alves de Almeida'] [' Maria Francisca', ' José Antônio', ' Ana Paula', ' Antônio Marcos', ' Fernanda']\n"
          ],
          "name": "stdout"
        }
      ]
    },
    {
      "cell_type": "code",
      "metadata": {
        "colab": {
          "base_uri": "https://localhost:8080/"
        },
        "id": "D7459mKZcKzF",
        "outputId": "a56b3285-3c9d-4090-8ed0-c31a356ecd59"
      },
      "source": [
        "primeiros_nomes = []\n",
        "for x in cadastro:\n",
        "    primeiros_nomes.append(x.split(\",\")[0])\n",
        "\n",
        "sobrenomes = []\n",
        "for x in cadastro:\n",
        "    sobrenomes.append(x.split(\". \")[-1])\n",
        "\n",
        "titulos = []\n",
        "for x in cadastro:\n",
        "    titulos.append(x.split(\".\")[0].split(\", \")[-1])\n",
        "\n",
        "print(primeiros_nomes,sobrenomes,titulos)"
      ],
      "execution_count": null,
      "outputs": [
        {
          "output_type": "stream",
          "text": [
            "['da Silva', 'Santos de Souza', 'Lima Oliveira', 'Pereira Costa', 'Alves de Almeida'] ['Maria Francisca', 'José Antônio', 'Ana Paula', 'Antônio Marcos', 'Fernanda'] ['Dra', 'Sr', 'Srta', 'Dr', 'Sra']\n"
          ],
          "name": "stdout"
        }
      ]
    },
    {
      "cell_type": "code",
      "metadata": {
        "colab": {
          "base_uri": "https://localhost:8080/"
        },
        "id": "NjB6J57CclEN",
        "outputId": "531faf18-94d0-402a-e1b4-d4ad6cb6a173"
      },
      "source": [
        "primeiros_nomes = []\n",
        "for x in cadastro:\n",
        "    primeiros_nomes.append(x.split(\". \")[-1])\n",
        "\n",
        "sobrenomes = []\n",
        "for x in cadastro:\n",
        "    sobrenomes.append(x.split(\",\")[0])\n",
        "\n",
        "titulos = []\n",
        "for x in cadastro:\n",
        "    titulos.append(x.split(\".\")[0].split(\", \")[-1])\n",
        "\n",
        "print(primeiros_nomes,sobrenomes,titulos)"
      ],
      "execution_count": null,
      "outputs": [
        {
          "output_type": "stream",
          "text": [
            "['Maria Francisca', 'José Antônio', 'Ana Paula', 'Antônio Marcos', 'Fernanda'] ['da Silva', 'Santos de Souza', 'Lima Oliveira', 'Pereira Costa', 'Alves de Almeida'] ['Dra', 'Sr', 'Srta', 'Dr', 'Sra']\n"
          ],
          "name": "stdout"
        }
      ]
    },
    {
      "cell_type": "code",
      "metadata": {
        "colab": {
          "base_uri": "https://localhost:8080/"
        },
        "id": "t6oFhUWqcpDT",
        "outputId": "6f99534d-f9ca-4065-c76a-22c55562420c"
      },
      "source": [
        "def f_it(n):\n",
        "    resultado = 1\n",
        "\n",
        "    for i in range(1, n+1, 1):\n",
        "        resultado = resultado * i\n",
        "  \n",
        "    return resultado\n",
        "n=10;\n",
        "\n",
        "print(resultado)"
      ],
      "execution_count": null,
      "outputs": [
        {
          "output_type": "stream",
          "text": [
            "1.75\n"
          ],
          "name": "stdout"
        }
      ]
    },
    {
      "cell_type": "code",
      "metadata": {
        "colab": {
          "base_uri": "https://localhost:8080/"
        },
        "id": "xQq2WwkDc0U-",
        "outputId": "b2369e10-8e96-45fb-c52c-011670280ad1"
      },
      "source": [
        "def f_rec(n):\n",
        "    if n != 0:\n",
        "        return n*f_rec(n-1)\n",
        "    return 1\n",
        "print(resultado)"
      ],
      "execution_count": null,
      "outputs": [
        {
          "output_type": "stream",
          "text": [
            "1.75\n"
          ],
          "name": "stdout"
        }
      ]
    },
    {
      "cell_type": "code",
      "metadata": {
        "colab": {
          "base_uri": "https://localhost:8080/"
        },
        "id": "m3jNBlN1dDwo",
        "outputId": "2c02c686-de9f-4327-baf8-2ce63b8995d0"
      },
      "source": [
        "def f_rec(n):\n",
        "    if n == 0:\n",
        "        return 1\n",
        "    return f_rec(n)\n",
        "\n",
        "print(resultado)"
      ],
      "execution_count": null,
      "outputs": [
        {
          "output_type": "stream",
          "text": [
            "1.75\n"
          ],
          "name": "stdout"
        }
      ]
    },
    {
      "cell_type": "code",
      "metadata": {
        "colab": {
          "base_uri": "https://localhost:8080/",
          "height": 197
        },
        "id": "qmHy4twLdJw3",
        "outputId": "da7b3660-afa6-4150-93be-dfaf0b1fb308"
      },
      "source": [
        "def calc_media(*args):\n",
        "    soma = 0\n",
        "    n = 0\n",
        "    for item in args:\n",
        "        soma = soma + item\n",
        "        n = n + 1\n",
        "    resp = soma/n\n",
        "\n",
        "\n",
        "\n",
        "calc_media(10,20,30)\n",
        "print(resp)"
      ],
      "execution_count": null,
      "outputs": [
        {
          "output_type": "error",
          "ename": "NameError",
          "evalue": "ignored",
          "traceback": [
            "\u001b[0;31m---------------------------------------------------------------------------\u001b[0m",
            "\u001b[0;31mNameError\u001b[0m                                 Traceback (most recent call last)",
            "\u001b[0;32m<ipython-input-114-e67eb162ac2b>\u001b[0m in \u001b[0;36m<module>\u001b[0;34m()\u001b[0m\n\u001b[1;32m     10\u001b[0m \u001b[0;34m\u001b[0m\u001b[0m\n\u001b[1;32m     11\u001b[0m \u001b[0mcalc_media\u001b[0m\u001b[0;34m(\u001b[0m\u001b[0;36m10\u001b[0m\u001b[0;34m,\u001b[0m\u001b[0;36m20\u001b[0m\u001b[0;34m,\u001b[0m\u001b[0;36m30\u001b[0m\u001b[0;34m)\u001b[0m\u001b[0;34m\u001b[0m\u001b[0;34m\u001b[0m\u001b[0m\n\u001b[0;32m---> 12\u001b[0;31m \u001b[0mprint\u001b[0m\u001b[0;34m(\u001b[0m\u001b[0mresp\u001b[0m\u001b[0;34m)\u001b[0m\u001b[0;34m\u001b[0m\u001b[0;34m\u001b[0m\u001b[0m\n\u001b[0m",
            "\u001b[0;31mNameError\u001b[0m: name 'resp' is not defined"
          ]
        }
      ]
    },
    {
      "cell_type": "code",
      "metadata": {
        "colab": {
          "base_uri": "https://localhost:8080/"
        },
        "id": "ha4lNTvXeJJZ",
        "outputId": "8e5954e4-b02a-4a94-fed9-4f58b5e63be8"
      },
      "source": [
        "lista = ['7', '9', '6', '5', '9', '10', '7', '8', '10', '7', \n",
        "     '7', '6', '6', '10', '6', '6', '7', '10', '9', '10',\n",
        "     '7', '8', '10', '9', '8']\n",
        "         \n",
        "dic = {}\n",
        "\n",
        "for item in lista:\n",
        "    if item not in dic:\n",
        "        dic[item] = 1\n",
        "    else:\n",
        "        dic[item] = dic[item] + 1\n",
        "\n",
        "print(item)\n",
        "print(dic)"
      ],
      "execution_count": null,
      "outputs": [
        {
          "output_type": "stream",
          "text": [
            "8\n",
            "{'7': 6, '9': 4, '6': 5, '5': 1, '10': 6, '8': 3}\n"
          ],
          "name": "stdout"
        }
      ]
    },
    {
      "cell_type": "code",
      "metadata": {
        "id": "OQej_SWZfapj",
        "colab": {
          "base_uri": "https://localhost:8080/",
          "height": 231
        },
        "outputId": "d35c4984-3174-4cac-da52-a2ac3368c522"
      },
      "source": [
        "with open('tabelaExemplo.csv', \"r\") as arquivo:\n",
        "    leitor = csv.reader(arquivo, delimiter = ';', lineterminator = '\\n') #criando um leitor\n",
        "    print(\"O conteúdo do arquivo é:\")\n",
        "    print(leitor)\n",
        "    for linha in leitor:\n",
        "        print(linha)\n",
        "\n",
        "#A\n",
        "f = open(\"caminho/para/arquivo.csv\", \"r\")\n",
        "\n",
        "leitura = f.read()\n",
        "\n",
        "dados = []\n",
        "for x in leitura.split(\"\\n\"):\n",
        "    dados.append(x.split(\",\"))\n",
        "\n",
        "f.close()\n",
        "\n",
        "\n",
        "#E\n",
        "f = open(\"caminho/para/arquivo.csv\", \"r\")\n",
        "\n",
        "leitura = f.read()\n",
        "\n",
        "dados = []\n",
        "for x in leitura.split(\"\\n\"):\n",
        "    dados.append(x.split(\";\"))\n",
        "\n",
        "f.close()"
      ],
      "execution_count": null,
      "outputs": [
        {
          "output_type": "error",
          "ename": "FileNotFoundError",
          "evalue": "ignored",
          "traceback": [
            "\u001b[0;31m---------------------------------------------------------------------------\u001b[0m",
            "\u001b[0;31mFileNotFoundError\u001b[0m                         Traceback (most recent call last)",
            "\u001b[0;32m<ipython-input-115-1a71fc46435d>\u001b[0m in \u001b[0;36m<module>\u001b[0;34m()\u001b[0m\n\u001b[0;32m----> 1\u001b[0;31m \u001b[0;32mwith\u001b[0m \u001b[0mopen\u001b[0m\u001b[0;34m(\u001b[0m\u001b[0;34m'tabelaExemplo.csv'\u001b[0m\u001b[0;34m,\u001b[0m \u001b[0;34m\"r\"\u001b[0m\u001b[0;34m)\u001b[0m \u001b[0;32mas\u001b[0m \u001b[0marquivo\u001b[0m\u001b[0;34m:\u001b[0m\u001b[0;34m\u001b[0m\u001b[0;34m\u001b[0m\u001b[0m\n\u001b[0m\u001b[1;32m      2\u001b[0m     \u001b[0mleitor\u001b[0m \u001b[0;34m=\u001b[0m \u001b[0mcsv\u001b[0m\u001b[0;34m.\u001b[0m\u001b[0mreader\u001b[0m\u001b[0;34m(\u001b[0m\u001b[0marquivo\u001b[0m\u001b[0;34m,\u001b[0m \u001b[0mdelimiter\u001b[0m \u001b[0;34m=\u001b[0m \u001b[0;34m';'\u001b[0m\u001b[0;34m,\u001b[0m \u001b[0mlineterminator\u001b[0m \u001b[0;34m=\u001b[0m \u001b[0;34m'\\n'\u001b[0m\u001b[0;34m)\u001b[0m \u001b[0;31m#criando um leitor\u001b[0m\u001b[0;34m\u001b[0m\u001b[0;34m\u001b[0m\u001b[0m\n\u001b[1;32m      3\u001b[0m     \u001b[0mprint\u001b[0m\u001b[0;34m(\u001b[0m\u001b[0;34m\"O conteúdo do arquivo é:\"\u001b[0m\u001b[0;34m)\u001b[0m\u001b[0;34m\u001b[0m\u001b[0;34m\u001b[0m\u001b[0m\n\u001b[1;32m      4\u001b[0m     \u001b[0mprint\u001b[0m\u001b[0;34m(\u001b[0m\u001b[0mleitor\u001b[0m\u001b[0;34m)\u001b[0m\u001b[0;34m\u001b[0m\u001b[0;34m\u001b[0m\u001b[0m\n\u001b[1;32m      5\u001b[0m     \u001b[0;32mfor\u001b[0m \u001b[0mlinha\u001b[0m \u001b[0;32min\u001b[0m \u001b[0mleitor\u001b[0m\u001b[0;34m:\u001b[0m\u001b[0;34m\u001b[0m\u001b[0;34m\u001b[0m\u001b[0m\n",
            "\u001b[0;31mFileNotFoundError\u001b[0m: [Errno 2] No such file or directory: 'tabelaExemplo.csv'"
          ]
        }
      ]
    },
    {
      "cell_type": "code",
      "metadata": {
        "colab": {
          "base_uri": "https://localhost:8080/",
          "height": 129
        },
        "id": "RaHyk2hfj4qU",
        "outputId": "bb5bba4c-ed87-485e-ed23-0d672e003b40"
      },
      "source": [
        "ESPER ABZAN SULTAI DIMIR: \n",
        "DOCE FELIZ AZEDO MONTANHA \n",
        "\n",
        "JESKAI ABZAN GRUUL BANT: \n",
        "DIA PRAIA TRISTE MONTANHA \n",
        "\n",
        "GRIXIS TEMUR MARDU BANT: \n",
        "SALGADO PRAIA BRANCO NOITE \n",
        "\n",
        "BOROS TEMUR GRUUL DIMIR: \n",
        "DIA FELIZ PRETO NOITE\n",
        "\n",
        "\n",
        "GRIXIS ABZAN GRUUL DIMIR\n",
        "\n"
      ],
      "execution_count": null,
      "outputs": [
        {
          "output_type": "error",
          "ename": "SyntaxError",
          "evalue": "ignored",
          "traceback": [
            "\u001b[0;36m  File \u001b[0;32m\"<ipython-input-116-7b59938d3f2a>\"\u001b[0;36m, line \u001b[0;32m1\u001b[0m\n\u001b[0;31m    ESPER ABZAN SULTAI DIMIR:\u001b[0m\n\u001b[0m              ^\u001b[0m\n\u001b[0;31mSyntaxError\u001b[0m\u001b[0;31m:\u001b[0m invalid syntax\n"
          ]
        }
      ]
    },
    {
      "cell_type": "code",
      "metadata": {
        "colab": {
          "base_uri": "https://localhost:8080/"
        },
        "id": "h2jwAFeVmMIU",
        "outputId": "961d1806-f7bc-432f-f50f-b6b9c958edad"
      },
      "source": [
        "90+95+100+70+90+85+90+75+80+90\n"
      ],
      "execution_count": null,
      "outputs": [
        {
          "output_type": "execute_result",
          "data": {
            "text/plain": [
              "865"
            ]
          },
          "metadata": {
            "tags": []
          },
          "execution_count": 117
        }
      ]
    },
    {
      "cell_type": "code",
      "metadata": {
        "colab": {
          "base_uri": "https://localhost:8080/"
        },
        "id": "hwRjcYJHmXzY",
        "outputId": "a960b423-89c8-46c9-842f-2b94afb0c2c2"
      },
      "source": [
        "865/10\n"
      ],
      "execution_count": null,
      "outputs": [
        {
          "output_type": "execute_result",
          "data": {
            "text/plain": [
              "86.5"
            ]
          },
          "metadata": {
            "tags": []
          },
          "execution_count": 118
        }
      ]
    },
    {
      "cell_type": "code",
      "metadata": {
        "id": "rCSdjFyEmaEi"
      },
      "source": [
        ""
      ],
      "execution_count": null,
      "outputs": []
    }
  ]
}