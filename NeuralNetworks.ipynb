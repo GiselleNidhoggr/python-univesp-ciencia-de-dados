{
  "nbformat": 4,
  "nbformat_minor": 0,
  "metadata": {
    "colab": {
      "name": "NeuralNetworks.ipynb",
      "provenance": [],
      "authorship_tag": "ABX9TyPe153txouX7oU8tat7ME+D",
      "include_colab_link": true
    },
    "kernelspec": {
      "name": "python3",
      "display_name": "Python 3"
    },
    "language_info": {
      "name": "python"
    }
  },
  "cells": [
    {
      "cell_type": "markdown",
      "metadata": {
        "id": "view-in-github",
        "colab_type": "text"
      },
      "source": [
        "<a href=\"https://colab.research.google.com/github/GiselleNidhoggr/python-univesp-ciencia-de-dados/blob/main/NeuralNetworks.ipynb\" target=\"_parent\"><img src=\"https://colab.research.google.com/assets/colab-badge.svg\" alt=\"Open In Colab\"/></a>"
      ]
    },
    {
      "cell_type": "markdown",
      "source": [
        "<div>\n",
        "<center><a href=\"https://github.com/GiselleNidhoggr\"><img src=\"https://camo.githubusercontent.com/53d7e494936f17400bc3fb524cb730aa76f64c92bd83b2f10d35e500f5f56794/68747470733a2f2f63646e2e646973636f72646170702e636f6d2f6174746163686d656e74732f3836323430303631373631383939373237392f3933303536363832333933363635353336302f6769665f676973656c6c652e676966\" width=\"200\" height=\"180\" /></a></center\n",
        "<h1><center>Olá</center></h1></div>\n",
        "\n",
        "##Esse repositório foi feito com base em um curso da [NVIDIA](https://www.nvidia.com/en-us/training/).\n",
        "\n",
        "##A ideia é o estudo e construção de uma rede neural.\n"
      ],
      "metadata": {
        "id": "fdrW1Kal3hK4"
      }
    },
    {
      "cell_type": "markdown",
      "source": [
        "###Segue uma música para um pouco de inspiração :)\n"
      ],
      "metadata": {
        "id": "11_JKBqGEbp_"
      }
    },
    {
      "cell_type": "code",
      "execution_count": 2,
      "metadata": {
        "colab": {
          "base_uri": "https://localhost:8080/",
          "height": 322
        },
        "id": "_WQaL2_73fhK",
        "outputId": "025b7c10-8174-437d-844b-e6df390debb2"
      },
      "outputs": [
        {
          "output_type": "execute_result",
          "data": {
            "text/html": [
              "\n",
              "        <iframe\n",
              "            width=\"400\"\n",
              "            height=\"300\"\n",
              "            src=\"https://www.youtube.com/embed/jDPH3MrovuQ\"\n",
              "            frameborder=\"0\"\n",
              "            allowfullscreen\n",
              "        ></iframe>\n",
              "        "
            ],
            "text/plain": [
              "<IPython.lib.display.YouTubeVideo at 0x7fe7a11c5390>"
            ],
            "image/jpeg": "[encoded data removed]"
          },
          "metadata": {},
          "execution_count": 2
        }
      ],
      "source": [
        "from IPython.display import YouTubeVideo\n",
        "YouTubeVideo('jDPH3MrovuQ')"
      ]
    },
    {
      "cell_type": "markdown",
      "source": [
        "Vamos utilizar a biblioteca [TensorFlow](https://www.tensorflow.org/), uma bilbioteca open-source muito popular para machine learning.\n",
        "\n",
        "Utilizamos tf.config.list_physical_devices('GPU') para confirmar que TensorFlow está usando GPU, conforme [documentação](https://www.tensorflow.org/guide/gpu)."
      ],
      "metadata": {
        "id": "_zYu55yTEtwX"
      }
    },
    {
      "cell_type": "code",
      "source": [
        "import tensorflow as tf\n",
        "\n",
        "print(\"Numero de GPUs disponíveis: \", len(tf.config.list_physical_devices('GPU')))"
      ],
      "metadata": {
        "colab": {
          "base_uri": "https://localhost:8080/"
        },
        "id": "So4ATPbuEDow",
        "outputId": "8c17405a-aef5-4991-a9e4-2e6466428b48"
      },
      "execution_count": 1,
      "outputs": [
        {
          "output_type": "stream",
          "name": "stdout",
          "text": [
            "Numero de GPUs disponíveis:  0\n"
          ]
        }
      ]
    },
    {
      "cell_type": "markdown",
      "source": [
        "O estudo da amostra de dados é chamado de \"Training dataset\" e os dados de validação são chamados de \"validation dataset\". É importante treinar o modelo e ensina-lo como analisar as imagens, dados e depois utilizar os dados de validação para verificar se o nosso modelo aprendeu corretamente.\n",
        "\n",
        "Note que usualmente utilizamos:\n",
        "\n",
        "\n",
        "Training dataset: 2/3\n",
        "\n",
        "Validation dataset: 1/3"
      ],
      "metadata": {
        "id": "zm6QUmNuG0SI"
      }
    },
    {
      "cell_type": "code",
      "source": [
        "fashion_mnist = tf.keras.datasets.fashion_mnist\n",
        "(train_images, train_labels), (valid_images, valid_labels) = fashion_mnist.load_data()"
      ],
      "metadata": {
        "colab": {
          "base_uri": "https://localhost:8080/"
        },
        "id": "_foefmGzFDOM",
        "outputId": "95e16b96-3f43-442c-a2ff-7af9412a1ee9"
      },
      "execution_count": 3,
      "outputs": [
        {
          "output_type": "stream",
          "name": "stdout",
          "text": [
            "Downloading data from https://storage.googleapis.com/tensorflow/tf-keras-datasets/train-labels-idx1-ubyte.gz\n",
            "32768/29515 [=================================] - 0s 0us/step\n",
            "40960/29515 [=========================================] - 0s 0us/step\n",
            "Downloading data from https://storage.googleapis.com/tensorflow/tf-keras-datasets/train-images-idx3-ubyte.gz\n",
            "26427392/26421880 [==============================] - 0s 0us/step\n",
            "26435584/26421880 [==============================] - 0s 0us/step\n",
            "Downloading data from https://storage.googleapis.com/tensorflow/tf-keras-datasets/t10k-labels-idx1-ubyte.gz\n",
            "16384/5148 [===============================================================================================] - 0s 0us/step\n",
            "Downloading data from https://storage.googleapis.com/tensorflow/tf-keras-datasets/t10k-images-idx3-ubyte.gz\n",
            "4423680/4422102 [==============================] - 0s 0us/step\n",
            "4431872/4422102 [==============================] - 0s 0us/step\n"
          ]
        }
      ]
    },
    {
      "cell_type": "markdown",
      "source": [
        "Esse é um dataset de 60,000 28x28 imagens em tons de cinza, de 10 categorias distintas, possui um test set de 10k fotinhas.\n",
        "\n",
        "As classes são:\n",
        "\n",
        "| Label | Description |\n",
        "| --- | --- |\n",
        "| 0 | T-shirt/top |\n",
        "| 1 | Trouser |\n",
        "| 2 | Pullover |\n",
        "| 3 | Dress |\n",
        "| 4 | Coat |\n",
        "| 5 | Sandal |\n",
        "| 6 | Shirt |\n",
        "| 7 | Sneaker |\n",
        "| 8 | Bag |\n",
        "| 9 | Ankle boot |"
      ],
      "metadata": {
        "id": "F9f93HsRXk-V"
      }
    },
    {
      "cell_type": "markdown",
      "source": [
        "Agora vamos importar a biblioteca [Matplotlib](https://matplotlib.org/) que permite plotar imagens, resultados, etc.\n",
        "\n",
        "Já selecionamos uma imagem para visualização e fazemos o treinamento com `train_images`"
      ],
      "metadata": {
        "id": "F0t8qXxUYkyp"
      }
    },
    {
      "cell_type": "code",
      "source": [
        "import matplotlib.pyplot as plt\n",
        "\n",
        "# Pode ser alterado até 59999.\n",
        "data_idx = 2323\n",
        "\n",
        "plt.figure()\n",
        "plt.imshow(train_images[data_idx], cmap='gray')\n",
        "plt.colorbar()\n",
        "plt.grid(False)\n",
        "plt.show()"
      ],
      "metadata": {
        "colab": {
          "base_uri": "https://localhost:8080/",
          "height": 264
        },
        "id": "2dd4hmu-WzFu",
        "outputId": "68ea29e4-5e73-49a2-8dfa-434f94e026e4"
      },
      "execution_count": 4,
      "outputs": [
        {
          "output_type": "display_data",
          "data": {
            "image/png": "[encoded data removed]",
            "text/plain": [
              "<Figure size 432x288 with 2 Axes>"
            ]
          },
          "metadata": {
            "needs_background": "light"
          }
        }
      ]
    },
    {
      "cell_type": "code",
      "source": [
        "train_labels[data_idx]"
      ],
      "metadata": {
        "colab": {
          "base_uri": "https://localhost:8080/"
        },
        "id": "kaKIsDCdaf4E",
        "outputId": "4f2fa4c3-25c4-4d7c-aa58-a9cf226d6992"
      },
      "execution_count": 5,
      "outputs": [
        {
          "output_type": "execute_result",
          "data": {
            "text/plain": [
              "5"
            ]
          },
          "metadata": {},
          "execution_count": 5
        }
      ]
    },
    {
      "cell_type": "code",
      "source": [
        "import matplotlib.pyplot as plt\n",
        "\n",
        "# TPode alterar até 9999.\n",
        "data_idx = 1212\n",
        "\n",
        "plt.figure()\n",
        "plt.imshow(valid_images[data_idx], cmap='gray')\n",
        "plt.colorbar()\n",
        "plt.grid(False)\n",
        "plt.show()"
      ],
      "metadata": {
        "colab": {
          "base_uri": "https://localhost:8080/",
          "height": 264
        },
        "id": "dwxWL0iWalB0",
        "outputId": "cd40d71a-3664-42a2-d099-e205835819e8"
      },
      "execution_count": 7,
      "outputs": [
        {
          "output_type": "display_data",
          "data": {
            "image/png": "[encoded data removed]",
            "text/plain": [
              "<Figure size 432x288 with 2 Axes>"
            ]
          },
          "metadata": {
            "needs_background": "light"
          }
        }
      ]
    },
    {
      "cell_type": "code",
      "source": [
        "valid_labels[data_idx]"
      ],
      "metadata": {
        "colab": {
          "base_uri": "https://localhost:8080/"
        },
        "id": "eCqI8wjnaskY",
        "outputId": "8b4d9792-9339-4fff-a65b-ae4a8721eee3"
      },
      "execution_count": 8,
      "outputs": [
        {
          "output_type": "execute_result",
          "data": {
            "text/plain": [
              "5"
            ]
          },
          "metadata": {},
          "execution_count": 8
        }
      ]
    },
    {
      "cell_type": "code",
      "source": [
        "# 28 llistas com 28 valores cada, pois cada imagem tem 28x28 pixels\n",
        "valid_images[data_idx]"
      ],
      "metadata": {
        "colab": {
          "base_uri": "https://localhost:8080/"
        },
        "id": "BJsSKbP-a6Pa",
        "outputId": "d5b64180-5fbc-4a3b-e8d1-5dddc69d2da6"
      },
      "execution_count": 9,
      "outputs": [
        {
          "output_type": "execute_result",
          "data": {
            "text/plain": [
              "array([[  0,   0,   0,   0,   0,   0,   0,   0,   0,   0,   0,   0,   0,\n",
              "          0,   0,   0,   0,   0,   0,   0,   0,   0,   0,   0,   0,   0,\n",
              "          0,   0],\n",
              "       [  0,   0,   0,   0,   0,   0,   0,   0,   0,   0,   0,   0,   0,\n",
              "          0,   0,   0,   0,   0,   0,   0,   0,   0,   0,   0,   0,   0,\n",
              "          0,   0],\n",
              "       [  0,   0,   0,   0,   0,   0,   0,   0,   0,   0,   0,   0,   0,\n",
              "          0,   0,   0,   0,   0,   0,   0,   0,   0,   0,   0,   0,   0,\n",
              "          0,   0],\n",
              "       [  0,   0,   0,   0,   0,   0,   0,   0,   0,   0,   0,   0,   0,\n",
              "          6,  22,  58, 100, 120, 111, 105, 145,  69,   1,  89,  26,   0,\n",
              "          4,   0],\n",
              "       [  0,   0,   0,   0,   0,   0,   0,   0,   0,   0,   0,   2,   0,\n",
              "         46, 106,  96, 128, 160, 155, 121, 202, 202, 236, 255, 171,   0,\n",
              "          0,   0],\n",
              "       [  0,   0,   0,   0,   0,   0,   0,   0,   0,   0,   0,   1,   0,\n",
              "         66, 181, 166, 167, 162, 176, 145, 151, 144, 149, 139, 191, 101,\n",
              "          0,   0],\n",
              "       [  0,   0,   0,   0,   0,   0,   0,   0,   0,   1,   0,   0,   0,\n",
              "          0,   0,   2,  15,  20,  23,  17,   0,   0,   0,   0, 178, 220,\n",
              "         15,   0],\n",
              "       [  0,   0,   0,   0,   0,   0,   0,   0,   0,   0,   0,   0,   0,\n",
              "          1,   0,   0,   0,   0,   0,   0,   0,   0,   0, 211, 216, 187,\n",
              "        153,   0],\n",
              "       [  0,   0,   0,   0,   0,   0,   0,   0,   0,   1,   1,   0,   0,\n",
              "          0,   1,   3,   3,   4,   3,   0,   2,   0,  76, 218, 197, 196,\n",
              "        197,  15],\n",
              "       [  0,   0,   0,   0,   0,   0,   0,   0,   0,   0,   0,   0,   0,\n",
              "          0,   0,   0,   0,   0,   0,   0,   0,   0, 190, 210, 199, 207,\n",
              "        182,  64],\n",
              "       [  0,   0,   0,   0,   0,   0,   0,   0,   0,   0,   0,   0,   0,\n",
              "          0,   0,   0,   0,   0,   0,   4,   0,  62, 200, 208, 213, 213,\n",
              "        135,  86],\n",
              "       [  0,   0,   0,   0,   0,   0,   0,   0,   0,   1,   0,   0,   0,\n",
              "          0,   0,   0,   0,   1,   4,   3,   0, 149, 211, 163, 161, 132,\n",
              "        107, 109],\n",
              "       [  0,   0,   0,   0,   0,   0,   0,   0,   0,   0,   0,   0,   0,\n",
              "          0,   0,   0,   0,   1,   6,   0,   0, 194, 161,  86,  97, 115,\n",
              "        138,  87],\n",
              "       [  0,   0,   0,   0,   0,   0,   0,   0,   0,   0,   0,   0,   0,\n",
              "          0,   0,   0,   0,   0,   4,   0,  31, 184,  96, 151, 143, 150,\n",
              "        181,  57],\n",
              "       [  0,   0,   0,   0,   0,   0,   0,   0,   0,   0,   0,   0,   0,\n",
              "          0,   0,   0,   0,   0,   0,   0,  74, 193, 156, 155, 164, 159,\n",
              "        186,  29],\n",
              "       [  0,   0,   0,   0,   0,   0,   0,   0,   0,   0,   0,   0,   0,\n",
              "          0,   0,   0,   0,   0,   0, 194, 221, 163,  79, 187, 170, 151,\n",
              "        176,   9],\n",
              "       [  0,   1,   1,   0,   0,   0,   0,   0,   0,   0,   0,   0,   0,\n",
              "          0,   0,   0,   0,  17, 197, 202,  87,   0,   0, 185, 155, 158,\n",
              "        166,   0],\n",
              "       [  1,   0,   0,   0,   8,   0,   2,   0,   0,   0,   0,   0,   0,\n",
              "          0,   0,   0,  33, 222, 167,   0,   0,   0,   4, 197, 156, 162,\n",
              "        154,   0],\n",
              "       [  2,   0,   3,   0,   0,   0,   0,   0,   0,   0,   0,   0,   0,\n",
              "          1,   0,  36, 224, 148,   0,   0,   4,   0,   7, 196, 151, 158,\n",
              "        138,   0],\n",
              "       [  0,   1,   0,   0,  73, 178,  77,   0,   0,   0,   0,   0,   0,\n",
              "          0,   0, 212, 146,   0,   0,   2,   1,   0,  15, 199, 152, 159,\n",
              "        127,   0],\n",
              "       [  1,   3,   0,  66, 204, 199, 202,   0,   0,   0,   0,   1,   0,\n",
              "          0, 187, 161,   0,   0,   0,   0,   2,   0,  15, 206, 152, 161,\n",
              "        115,   0],\n",
              "       [  0,   0,   0,  25, 211, 172, 206, 112,   0,   0,   0,   0,   0,\n",
              "        155, 195,   1,   0,   0,   0,   0,   3,   0,  20, 201, 153, 165,\n",
              "        101,   0],\n",
              "       [ 36,  46,  47,  41, 146, 176, 124,   9,   0,   0,   0,  18, 164,\n",
              "        204,  34,   0,   1,   0,   0,   0,   3,   0,  22, 166, 145, 161,\n",
              "         85,   0],\n",
              "       [ 91, 139, 137, 146, 184, 183, 209, 140, 206, 243, 227, 206, 177,\n",
              "         35,   0,   3,   0,   0,   0,   0,   3,   0,  24, 214, 151, 162,\n",
              "         88,   0],\n",
              "       [  0,   0,  12,  13,  40,  27,  43,  83, 114, 130,  75,  31,   0,\n",
              "          0,   0,   0,   0,   3,   0,   0,   2,   0,   6,  93,  70,  98,\n",
              "         34,   0],\n",
              "       [  0,   0,   0,   0,   0,   0,   0,   0,   0,   0,   0,   0,   0,\n",
              "          0,   0,   0,   0,   0,   0,   0,   0,   0,   0,   0,   0,   0,\n",
              "          0,   0],\n",
              "       [  0,   0,   0,   0,   0,   0,   0,   0,   0,   0,   0,   0,   0,\n",
              "          0,   0,   0,   0,   0,   0,   0,   0,   0,   0,   0,   0,   0,\n",
              "          0,   0],\n",
              "       [  0,   0,   0,   0,   0,   0,   0,   0,   0,   0,   0,   0,   0,\n",
              "          0,   0,   0,   0,   0,   0,   0,   0,   0,   0,   0,   0,   0,\n",
              "          0,   0]], dtype=uint8)"
            ]
          },
          "metadata": {},
          "execution_count": 9
        }
      ]
    },
    {
      "cell_type": "markdown",
      "source": [
        "[Keras](https://keras.io/), é uma estrutura de deep learning que foi integrada ao TensorFlow, facilita a construção desse modelo. Usaremos a [API Sequencial](https://keras.io/guides/sequential_model/), que nos permite empilhar [layers](https://keras.io/api/layers/), a lista de operações estaremos aplicando aos nossos dados à medida que são alimentados pela rede.\n",
        "\n",
        "Temos duas camadas:\n",
        "* [Flatten](https://www.tensorflow.org/api_docs/python/tf/keras/layers/Flatten) - Converte dados multidimensionais em dados unidimensionais (ex: uma lista de listas em uma única lista).\n",
        "* [Dense](https://www.tensorflow.org/api_docs/python/tf/keras/layers/Dense) - Uma \"linha\" de neurônios. Cada neurônio tem um peso (`w`) para cada entrada. No exemplo abaixo, usamos o número `10` para colocar dez neurônios.\n",
        "\n",
        "Também definiremos um `input_shape` que são as dimensões dos nossos dados. Neste caso, nossos pixels `28x28` para cada imagem."
      ],
      "metadata": {
        "id": "HEA4FzbVmAQ_"
      }
    },
    {
      "cell_type": "code",
      "source": [
        "number_of_classes = train_labels.max() + 1\n",
        "number_of_classes"
      ],
      "metadata": {
        "colab": {
          "base_uri": "https://localhost:8080/"
        },
        "id": "N2MIX-TyiDEQ",
        "outputId": "de7c926f-3811-461f-cfdc-e8bddae313eb"
      },
      "execution_count": 10,
      "outputs": [
        {
          "output_type": "execute_result",
          "data": {
            "text/plain": [
              "10"
            ]
          },
          "metadata": {},
          "execution_count": 10
        }
      ]
    },
    {
      "cell_type": "code",
      "source": [
        "model = tf.keras.Sequential([\n",
        "    tf.keras.layers.Flatten(input_shape=(28, 28)),\n",
        "    tf.keras.layers.Dense(number_of_classes)\n",
        "])"
      ],
      "metadata": {
        "id": "W43SPKrFmXUI"
      },
      "execution_count": 11,
      "outputs": []
    },
    {
      "cell_type": "markdown",
      "source": [
        "Chamamos o método sumário para verificar a estrutura:"
      ],
      "metadata": {
        "id": "URL5QIUXmhbE"
      }
    },
    {
      "cell_type": "code",
      "source": [
        "model.summary()"
      ],
      "metadata": {
        "colab": {
          "base_uri": "https://localhost:8080/"
        },
        "id": "_BfyimhUmacs",
        "outputId": "552cd8ee-4b9f-4ffa-929c-9fba95964494"
      },
      "execution_count": 12,
      "outputs": [
        {
          "output_type": "stream",
          "name": "stdout",
          "text": [
            "Model: \"sequential\"\n",
            "_________________________________________________________________\n",
            " Layer (type)                Output Shape              Param #   \n",
            "=================================================================\n",
            " flatten (Flatten)           (None, 784)               0         \n",
            "                                                                 \n",
            " dense (Dense)               (None, 10)                7850      \n",
            "                                                                 \n",
            "=================================================================\n",
            "Total params: 7,850\n",
            "Trainable params: 7,850\n",
            "Non-trainable params: 0\n",
            "_________________________________________________________________\n"
          ]
        }
      ]
    },
    {
      "cell_type": "code",
      "source": [
        "image_height = 28\n",
        "image_width = 28\n",
        "\n",
        "number_of_weights = image_height * image_width * number_of_classes\n",
        "number_of_weights"
      ],
      "metadata": {
        "colab": {
          "base_uri": "https://localhost:8080/"
        },
        "id": "RjOxGp1_mlPv",
        "outputId": "87bf2327-7003-443b-bd6d-1c91bdc1a4ee"
      },
      "execution_count": 13,
      "outputs": [
        {
          "output_type": "execute_result",
          "data": {
            "text/plain": [
              "7840"
            ]
          },
          "metadata": {},
          "execution_count": 13
        }
      ]
    },
    {
      "cell_type": "markdown",
      "source": [
        "Esses 10 extra representam cada um dos '10' vieses dos neurônios, o 'b' em 'y = mx + b'.\n",
        "\n",
        "Há outras maneiras de verificar nosso modelo. Também podemos usar o [plot](https://keras.io/api/utils/model_plotting_utils/):"
      ],
      "metadata": {
        "id": "QB5wlei4m1-_"
      }
    },
    {
      "cell_type": "code",
      "source": [
        "tf.keras.utils.plot_model(model, show_shapes=True)"
      ],
      "metadata": {
        "colab": {
          "base_uri": "https://localhost:8080/",
          "height": 312
        },
        "id": "T63WP5NImrER",
        "outputId": "a55c8d34-f581-402e-ac3f-94c332896c10"
      },
      "execution_count": 14,
      "outputs": [
        {
          "output_type": "execute_result",
          "data": {
            "image/png": "[encoded data removed]",
            "text/plain": [
              "<IPython.core.display.Image object>"
            ]
          },
          "metadata": {},
          "execution_count": 14
        }
      ]
    },
    {
      "cell_type": "markdown",
      "source": [
        "Para a classificação do modelo, usamos o método chamado a [SparseCategoricalCrossentropy](https://www.tensorflow.org/api_docs/python/tf/keras/losses/SparseCategoricalCrossentropy):\n",
        "* **Sparse** - para esta função, refere-se a como nosso rótulo é um índice inteiro para nossas categorias\n",
        "* **Categorical** - esta função foi feita para classificação\n",
        "* **Cross-entropy** - quanto mais confiante nosso modelo estiver quando fizer uma estimativa incorreta, pior será sua pontuação. Se um modelo estiver 100% confiante quando estiver errado, ele terá uma pontuação de infinito negativo!\n",
        "* `from_logits` - a saída linear será transformada em uma probabilidade que pode ser interpretada como a confiança do modelo que uma determinada categoria é a correta para a entrada dada."
      ],
      "metadata": {
        "id": "9X-1xoeOn7fP"
      }
    },
    {
      "cell_type": "code",
      "source": [
        "model.compile(optimizer='adam',\n",
        "              loss=tf.keras.losses.SparseCategoricalCrossentropy(from_logits=True),\n",
        "              metrics=['accuracy'])"
      ],
      "metadata": {
        "id": "Vth7nxN3nIC0"
      },
      "execution_count": 15,
      "outputs": []
    },
    {
      "cell_type": "markdown",
      "source": [
        "Para avaliar o modelo, usamos o método [fit](https://www.tensorflow.org/api_docs/python/tf/keras/Model#fit) .\n",
        "\n",
        "Uma `epoch` é uma revisão do conjunto de dados de treinamento.\n",
        "\n",
        "Após cada `epoch`, o modelo será testado com os dados de validação."
      ],
      "metadata": {
        "id": "f9owWQFxoWut"
      }
    },
    {
      "cell_type": "code",
      "source": [
        "history = model.fit(\n",
        "    train_images,\n",
        "    train_labels,\n",
        "    epochs=5,\n",
        "    verbose=True,\n",
        "    validation_data=(valid_images, valid_labels)\n",
        ")"
      ],
      "metadata": {
        "colab": {
          "base_uri": "https://localhost:8080/"
        },
        "id": "RDHz0vnRoOv2",
        "outputId": "d51eb48f-3e99-4d74-abba-158696d3ea47"
      },
      "execution_count": 18,
      "outputs": [
        {
          "output_type": "stream",
          "name": "stdout",
          "text": [
            "Epoch 1/5\n",
            "1875/1875 [==============================] - 3s 2ms/step - loss: 9.9578 - accuracy: 0.8084 - val_loss: 13.9391 - val_accuracy: 0.7914\n",
            "Epoch 2/5\n",
            "1875/1875 [==============================] - 3s 2ms/step - loss: 9.9802 - accuracy: 0.8084 - val_loss: 11.6846 - val_accuracy: 0.8005\n",
            "Epoch 3/5\n",
            "1875/1875 [==============================] - 3s 2ms/step - loss: 10.0431 - accuracy: 0.8085 - val_loss: 13.5862 - val_accuracy: 0.7981\n",
            "Epoch 4/5\n",
            "1875/1875 [==============================] - 3s 2ms/step - loss: 9.7869 - accuracy: 0.8117 - val_loss: 14.7970 - val_accuracy: 0.7728\n",
            "Epoch 5/5\n",
            "1875/1875 [==============================] - 3s 2ms/step - loss: 10.2194 - accuracy: 0.8103 - val_loss: 11.7851 - val_accuracy: 0.7939\n"
          ]
        }
      ]
    },
    {
      "cell_type": "code",
      "source": [
        "model.predict(train_images[0:10])"
      ],
      "metadata": {
        "colab": {
          "base_uri": "https://localhost:8080/"
        },
        "id": "CzEGwCMAorOX",
        "outputId": "401348cb-2e0e-466e-8037-33075868bbdf"
      },
      "execution_count": 19,
      "outputs": [
        {
          "output_type": "execute_result",
          "data": {
            "text/plain": [
              "array([[-1.78244461e+02, -7.81585999e+02, -7.91409683e+01,\n",
              "         3.14633560e+01, -2.77987946e+02,  6.65167358e+02,\n",
              "         1.53621330e+01,  7.79234863e+02,  2.22302032e+02,\n",
              "         8.32029358e+02],\n",
              "       [ 3.37780060e+02, -3.00811157e+02,  2.47443497e+02,\n",
              "         1.80658340e+02, -6.22936707e+01, -1.66879041e+03,\n",
              "         2.56747437e+02, -3.10842212e+03, -1.51928116e+02,\n",
              "        -1.17326550e+03],\n",
              "       [ 1.13220497e+02,  6.32197800e+01,  8.82114410e+01,\n",
              "         1.32213394e+02,  1.08227226e+02, -6.13588928e+02,\n",
              "         8.46492996e+01, -7.33349792e+02, -8.35787277e+01,\n",
              "        -3.53064423e+02],\n",
              "       [ 1.88885529e+02,  7.83974075e+01,  1.84661469e+02,\n",
              "         2.24190186e+02,  1.50139481e+02, -8.66365662e+02,\n",
              "         2.03606216e+02, -1.68596216e+03, -1.29387970e+02,\n",
              "        -1.13098047e+03],\n",
              "       [ 2.60841003e+02,  2.21663086e+02,  1.85303864e+02,\n",
              "         2.87189880e+02,  2.91478149e+02, -1.13141125e+03,\n",
              "         1.96705063e+02, -1.01132715e+03, -4.37395287e+01,\n",
              "        -1.19731592e+03],\n",
              "       [ 2.91853943e+02,  3.29154816e+01,  3.89314423e+02,\n",
              "         2.61443726e+02,  2.97170410e+02, -1.18261365e+03,\n",
              "         2.86015961e+02, -2.51168701e+03,  9.10681629e+00,\n",
              "        -1.43847742e+03],\n",
              "       [-6.63649445e+01, -1.65779907e+02, -4.55700798e+01,\n",
              "        -9.05158997e+00, -1.30641815e+02,  3.47916809e+02,\n",
              "        -2.03289452e+01,  4.81332275e+02,  1.33607956e+02,\n",
              "         1.55026779e+02],\n",
              "       [ 1.79585983e+02, -6.38428574e+01,  4.02167114e+02,\n",
              "         1.83042801e+02,  4.07332031e+02, -1.53869043e+03,\n",
              "         3.06592560e+02, -2.62770386e+03,  2.16313648e+00,\n",
              "        -1.11274365e+03],\n",
              "       [ 4.96385902e-01, -4.90820984e+02, -1.07162491e+02,\n",
              "        -2.26268692e+01, -2.34948410e+02,  6.02558411e+02,\n",
              "        -2.95609207e+01,  9.02440186e+01,  8.48851490e+00,\n",
              "         2.82587250e+02],\n",
              "       [-8.57350922e+01, -3.85325317e+02,  6.35105667e+01,\n",
              "         9.98719635e+01, -3.41067238e+01,  9.12966736e+02,\n",
              "         4.96296234e+01,  1.20021965e+02,  1.91556885e+02,\n",
              "         3.66866791e+02]], dtype=float32)"
            ]
          },
          "metadata": {},
          "execution_count": 19
        }
      ]
    },
    {
      "cell_type": "code",
      "source": [
        "data_idx = 58500 # Pode alterar até 59999.\n",
        "\n",
        "plt.figure()\n",
        "plt.imshow(train_images[data_idx], cmap='gray')\n",
        "plt.colorbar()\n",
        "plt.grid(False)\n",
        "plt.show()\n",
        "\n",
        "x_values = range(number_of_classes)\n",
        "plt.figure()\n",
        "plt.bar(x_values, model.predict(train_images[data_idx:data_idx+1]).flatten())\n",
        "plt.xticks(range(10))\n",
        "plt.show()\n",
        "\n",
        "print(\"Resposta certa:\", train_labels[data_idx])"
      ],
      "metadata": {
        "colab": {
          "base_uri": "https://localhost:8080/",
          "height": 531
        },
        "id": "kmqOjbwQpfoQ",
        "outputId": "405205b5-d39e-4d08-f4b5-81f2cf0a8ea1"
      },
      "execution_count": 20,
      "outputs": [
        {
          "output_type": "display_data",
          "data": {
            "image/png": "[encoded data removed]",
            "text/plain": [
              "<Figure size 432x288 with 2 Axes>"
            ]
          },
          "metadata": {
            "needs_background": "light"
          }
        },
        {
          "output_type": "display_data",
          "data": {
            "image/png": "[encoded data removed]",
            "text/plain": [
              "<Figure size 432x288 with 1 Axes>"
            ]
          },
          "metadata": {
            "needs_background": "light"
          }
        },
        {
          "output_type": "stream",
          "name": "stdout",
          "text": [
            "Resposta certa: 8\n"
          ]
        }
      ]
    },
    {
      "cell_type": "markdown",
      "source": [
        "O melhor seria dar uma olhada na [fonte original](https://colab.research.google.com/github/NVDLI/notebooks/blob/master/building-a-brain/BuildingABrian.ipynb#scrollTo=7wiFSYdcM4Nt), é muito melhor detalhada, mas essa aqui ainda assim vai direto ao ponto :)"
      ],
      "metadata": {
        "id": "zLj4oXjrqBMJ"
      }
    },
    {
      "cell_type": "code",
      "source": [
        ""
      ],
      "metadata": {
        "id": "fBTzZLvwp6WB"
      },
      "execution_count": null,
      "outputs": []
    }
  ]
}