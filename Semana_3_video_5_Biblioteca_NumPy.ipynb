{
  "nbformat": 4,
  "nbformat_minor": 0,
  "metadata": {
    "colab": {
      "name": "Semana 3 - video 5. Biblioteca NumPy.ipynb",
      "provenance": [],
      "authorship_tag": "ABX9TyP7FJ0t+ovCv3DvyTg/7X5u",
      "include_colab_link": true
    },
    "kernelspec": {
      "name": "python3",
      "display_name": "Python 3"
    }
  },
  "cells": [
    {
      "cell_type": "markdown",
      "metadata": {
        "id": "view-in-github",
        "colab_type": "text"
      },
      "source": [
        "<a href=\"https://colab.research.google.com/github/GiselleOAlmeida/python-univesp-ciencia-de-dados/blob/main/Semana_3_video_5_Biblioteca_NumPy.ipynb\" target=\"_parent\"><img src=\"https://colab.research.google.com/assets/colab-badge.svg\" alt=\"Open In Colab\"/></a>"
      ]
    },
    {
      "cell_type": "markdown",
      "metadata": {
        "id": "FuyPgmNwdLxY"
      },
      "source": [
        "# Semana 2 - vídeo 5\n",
        "Atividade do vídeo"
      ]
    },
    {
      "cell_type": "markdown",
      "metadata": {
        "id": "eI9CSUXXiZCj"
      },
      "source": [
        "### Importar **biblioteca**"
      ]
    },
    {
      "cell_type": "code",
      "metadata": {
        "id": "1L20138vigbm"
      },
      "source": [
        "import numpy as np"
      ],
      "execution_count": 2,
      "outputs": []
    },
    {
      "cell_type": "markdown",
      "metadata": {
        "id": "a1muJ3bBjPTz"
      },
      "source": [
        "Gerar dados aleatórios"
      ]
    },
    {
      "cell_type": "markdown",
      "metadata": {
        "id": "WHJZQQX_jV2n"
      },
      "source": [
        "Gerar NDArray de 2x3"
      ]
    },
    {
      "cell_type": "code",
      "metadata": {
        "id": "LTu0lXFMjSO8"
      },
      "source": [
        "dados=np.random.rand(2,3)"
      ],
      "execution_count": 3,
      "outputs": []
    },
    {
      "cell_type": "code",
      "metadata": {
        "colab": {
          "base_uri": "https://localhost:8080/"
        },
        "id": "CmKsy2YMjwHK",
        "outputId": "63ad17a0-299c-4c03-9747-2491f06995f9"
      },
      "source": [
        "dados"
      ],
      "execution_count": 4,
      "outputs": [
        {
          "output_type": "execute_result",
          "data": {
            "text/plain": [
              "array([[0.45990354, 0.89538154, 0.40215866],\n",
              "       [0.74270837, 0.42920988, 0.7746447 ]])"
            ]
          },
          "metadata": {},
          "execution_count": 4
        }
      ]
    },
    {
      "cell_type": "markdown",
      "metadata": {
        "id": "m0fW0aVSkCf7"
      },
      "source": [
        "Tipo do array"
      ]
    },
    {
      "cell_type": "code",
      "metadata": {
        "colab": {
          "base_uri": "https://localhost:8080/"
        },
        "id": "Y1hBipOoj5QB",
        "outputId": "72fc326b-f19f-4351-a206-125f7c3051ee"
      },
      "source": [
        "dados.dtype"
      ],
      "execution_count": 5,
      "outputs": [
        {
          "output_type": "execute_result",
          "data": {
            "text/plain": [
              "dtype('float64')"
            ]
          },
          "metadata": {},
          "execution_count": 5
        }
      ]
    },
    {
      "cell_type": "markdown",
      "metadata": {
        "id": "uk6XCPzNkMVB"
      },
      "source": [
        "Tamanho e quantidade de dimensões"
      ]
    },
    {
      "cell_type": "code",
      "metadata": {
        "colab": {
          "base_uri": "https://localhost:8080/"
        },
        "id": "JrB3_RGgkHs4",
        "outputId": "801b9ec7-4cd5-445b-87f1-26f10fd5d46e"
      },
      "source": [
        "dados.shape"
      ],
      "execution_count": 6,
      "outputs": [
        {
          "output_type": "execute_result",
          "data": {
            "text/plain": [
              "(2, 3)"
            ]
          },
          "metadata": {},
          "execution_count": 6
        }
      ]
    },
    {
      "cell_type": "code",
      "metadata": {
        "colab": {
          "base_uri": "https://localhost:8080/"
        },
        "id": "1dd2tMUXkS6V",
        "outputId": "c328c867-989e-40de-964e-6ba9f2e161ff"
      },
      "source": [
        "dados.ndim"
      ],
      "execution_count": 7,
      "outputs": [
        {
          "output_type": "execute_result",
          "data": {
            "text/plain": [
              "2"
            ]
          },
          "metadata": {},
          "execution_count": 7
        }
      ]
    },
    {
      "cell_type": "markdown",
      "metadata": {
        "id": "cKe8S_-7kgnm"
      },
      "source": [
        "### Criar NDArray usando a função array\n"
      ]
    },
    {
      "cell_type": "markdown",
      "metadata": {
        "id": "sOgy-AIDYG_V"
      },
      "source": [
        "#####Ao criar o array a função tenta criar o melhor tipo de dado"
      ]
    },
    {
      "cell_type": "code",
      "metadata": {
        "id": "2zSJNtZfkuiR"
      },
      "source": [
        "lista=[10,15,84,78,15.4]"
      ],
      "execution_count": 8,
      "outputs": []
    },
    {
      "cell_type": "code",
      "metadata": {
        "id": "WLhgVOdLk6r3"
      },
      "source": [
        "dados2=np.array(lista)"
      ],
      "execution_count": 9,
      "outputs": []
    },
    {
      "cell_type": "code",
      "metadata": {
        "colab": {
          "base_uri": "https://localhost:8080/"
        },
        "id": "60QySaoQlCzk",
        "outputId": "7969510f-2513-47f4-8fca-36a529736a84"
      },
      "source": [
        "dados2"
      ],
      "execution_count": 10,
      "outputs": [
        {
          "output_type": "execute_result",
          "data": {
            "text/plain": [
              "array([10. , 15. , 84. , 78. , 15.4])"
            ]
          },
          "metadata": {},
          "execution_count": 10
        }
      ]
    },
    {
      "cell_type": "code",
      "metadata": {
        "id": "NZY7bnm7lG1z"
      },
      "source": [
        "lista2=[[1,2,3,4],[4,3,2,1]]"
      ],
      "execution_count": 11,
      "outputs": []
    },
    {
      "cell_type": "code",
      "metadata": {
        "id": "X0cf9yP2lXmb"
      },
      "source": [
        "dados3=np.array(lista2)"
      ],
      "execution_count": 12,
      "outputs": []
    },
    {
      "cell_type": "code",
      "metadata": {
        "colab": {
          "base_uri": "https://localhost:8080/"
        },
        "id": "z4kqO_lbleCq",
        "outputId": "e04ce529-b615-4e5a-c34f-603e376df60c"
      },
      "source": [
        "dados3"
      ],
      "execution_count": 13,
      "outputs": [
        {
          "output_type": "execute_result",
          "data": {
            "text/plain": [
              "array([[1, 2, 3, 4],\n",
              "       [4, 3, 2, 1]])"
            ]
          },
          "metadata": {},
          "execution_count": 13
        }
      ]
    },
    {
      "cell_type": "markdown",
      "metadata": {
        "id": "qHsa4KwOlroR"
      },
      "source": [
        "###Outras maneiras de criar arrays"
      ]
    },
    {
      "cell_type": "code",
      "metadata": {
        "id": "PEJGuDaKlu2H"
      },
      "source": [
        "dadoszero=np.zeros(10)"
      ],
      "execution_count": 3,
      "outputs": []
    },
    {
      "cell_type": "code",
      "metadata": {
        "colab": {
          "base_uri": "https://localhost:8080/"
        },
        "id": "BYxvkInpx5ZZ",
        "outputId": "e51f6637-c215-430a-e092-a0498ba45903"
      },
      "source": [
        "dadoszero"
      ],
      "execution_count": 4,
      "outputs": [
        {
          "output_type": "execute_result",
          "data": {
            "text/plain": [
              "array([0., 0., 0., 0., 0., 0., 0., 0., 0., 0.])"
            ]
          },
          "metadata": {},
          "execution_count": 4
        }
      ]
    },
    {
      "cell_type": "code",
      "metadata": {
        "id": "eAspbpy-yFka"
      },
      "source": [
        "dadoszero2=np.zeros((2,3))"
      ],
      "execution_count": 5,
      "outputs": []
    },
    {
      "cell_type": "code",
      "metadata": {
        "colab": {
          "base_uri": "https://localhost:8080/"
        },
        "id": "WyBHXbzryU_R",
        "outputId": "d397718f-7114-4b00-f066-b7a187b858f7"
      },
      "source": [
        "dadoszero2"
      ],
      "execution_count": 6,
      "outputs": [
        {
          "output_type": "execute_result",
          "data": {
            "text/plain": [
              "array([[0., 0., 0.],\n",
              "       [0., 0., 0.]])"
            ]
          },
          "metadata": {},
          "execution_count": 6
        }
      ]
    },
    {
      "cell_type": "code",
      "metadata": {
        "id": "DllbgdstyW32"
      },
      "source": [
        "dadosum=np.ones(5)"
      ],
      "execution_count": 7,
      "outputs": []
    },
    {
      "cell_type": "code",
      "metadata": {
        "colab": {
          "base_uri": "https://localhost:8080/"
        },
        "id": "x1eyGsoXy5VJ",
        "outputId": "c9e20264-0adf-46ce-c5b8-7f8fa187ffb8"
      },
      "source": [
        "dadosum"
      ],
      "execution_count": 8,
      "outputs": [
        {
          "output_type": "execute_result",
          "data": {
            "text/plain": [
              "array([1., 1., 1., 1., 1.])"
            ]
          },
          "metadata": {},
          "execution_count": 8
        }
      ]
    },
    {
      "cell_type": "code",
      "metadata": {
        "id": "lQ6UzZRHy6oE"
      },
      "source": [
        "dadossec=np.arange(10)"
      ],
      "execution_count": 9,
      "outputs": []
    },
    {
      "cell_type": "code",
      "metadata": {
        "colab": {
          "base_uri": "https://localhost:8080/"
        },
        "id": "xaSEOzW2zEIB",
        "outputId": "ee025bf2-7b26-485c-c586-11bbe9702c0b"
      },
      "source": [
        "dadossec"
      ],
      "execution_count": 10,
      "outputs": [
        {
          "output_type": "execute_result",
          "data": {
            "text/plain": [
              "array([0, 1, 2, 3, 4, 5, 6, 7, 8, 9])"
            ]
          },
          "metadata": {},
          "execution_count": 10
        }
      ]
    },
    {
      "cell_type": "code",
      "metadata": {
        "id": "8NCvQ1h0zFBc"
      },
      "source": [
        "dadossec2=np.arange(0,20,2)"
      ],
      "execution_count": 11,
      "outputs": []
    },
    {
      "cell_type": "code",
      "metadata": {
        "colab": {
          "base_uri": "https://localhost:8080/"
        },
        "id": "d5QrjcHzzOGz",
        "outputId": "280896ce-e488-4295-d56b-2185b0007525"
      },
      "source": [
        "dadossec2"
      ],
      "execution_count": 12,
      "outputs": [
        {
          "output_type": "execute_result",
          "data": {
            "text/plain": [
              "array([ 0,  2,  4,  6,  8, 10, 12, 14, 16, 18])"
            ]
          },
          "metadata": {},
          "execution_count": 12
        }
      ]
    },
    {
      "cell_type": "code",
      "metadata": {
        "colab": {
          "base_uri": "https://localhost:8080/"
        },
        "id": "5kWQax6uzPUE",
        "outputId": "90fe80c8-d15e-42af-9247-c666c08bbaab"
      },
      "source": [
        "dadossec.dtype"
      ],
      "execution_count": 13,
      "outputs": [
        {
          "output_type": "execute_result",
          "data": {
            "text/plain": [
              "dtype('int64')"
            ]
          },
          "metadata": {},
          "execution_count": 13
        }
      ]
    },
    {
      "cell_type": "code",
      "metadata": {
        "id": "bIxgpoRezSAP"
      },
      "source": [
        "dadosseqf=dadossec.astype(np.float64)"
      ],
      "execution_count": 15,
      "outputs": []
    },
    {
      "cell_type": "code",
      "metadata": {
        "colab": {
          "base_uri": "https://localhost:8080/"
        },
        "id": "eVUK05WQ3mkV",
        "outputId": "409607bb-46d4-435a-eb8b-9184bf6b2bab"
      },
      "source": [
        "dadosseqf"
      ],
      "execution_count": 16,
      "outputs": [
        {
          "output_type": "execute_result",
          "data": {
            "text/plain": [
              "array([0., 1., 2., 3., 4., 5., 6., 7., 8., 9.])"
            ]
          },
          "metadata": {},
          "execution_count": 16
        }
      ]
    },
    {
      "cell_type": "code",
      "metadata": {
        "colab": {
          "base_uri": "https://localhost:8080/"
        },
        "id": "jDKouPml3xpc",
        "outputId": "266e19e8-f57a-4047-9467-c6873b043639"
      },
      "source": [
        "dadosseqf.dtype"
      ],
      "execution_count": 17,
      "outputs": [
        {
          "output_type": "execute_result",
          "data": {
            "text/plain": [
              "dtype('float64')"
            ]
          },
          "metadata": {},
          "execution_count": 17
        }
      ]
    },
    {
      "cell_type": "markdown",
      "metadata": {
        "id": "TL48jCUg35fj"
      },
      "source": [
        "###Aritmética com Arrays"
      ]
    },
    {
      "cell_type": "code",
      "metadata": {
        "id": "iG_03ha531CY"
      },
      "source": [
        "dados4=np.array([[1,2,3],[4,5,6]])"
      ],
      "execution_count": 18,
      "outputs": []
    },
    {
      "cell_type": "code",
      "metadata": {
        "colab": {
          "base_uri": "https://localhost:8080/"
        },
        "id": "U8BEASDc4Q1s",
        "outputId": "a692c764-9823-4f89-acb4-1f6f53da1015"
      },
      "source": [
        "dados4"
      ],
      "execution_count": 19,
      "outputs": [
        {
          "output_type": "execute_result",
          "data": {
            "text/plain": [
              "array([[1, 2, 3],\n",
              "       [4, 5, 6]])"
            ]
          },
          "metadata": {},
          "execution_count": 19
        }
      ]
    },
    {
      "cell_type": "code",
      "metadata": {
        "colab": {
          "base_uri": "https://localhost:8080/"
        },
        "id": "fQD5hSM84Tqg",
        "outputId": "e8cdde55-6e2d-438f-9fcf-7631f2527544"
      },
      "source": [
        "dados4*dados4"
      ],
      "execution_count": 20,
      "outputs": [
        {
          "output_type": "execute_result",
          "data": {
            "text/plain": [
              "array([[ 1,  4,  9],\n",
              "       [16, 25, 36]])"
            ]
          },
          "metadata": {},
          "execution_count": 20
        }
      ]
    },
    {
      "cell_type": "code",
      "metadata": {
        "colab": {
          "base_uri": "https://localhost:8080/"
        },
        "id": "q1dl0lmV4YcR",
        "outputId": "182bae77-16ee-4d66-c604-c7475f122eeb"
      },
      "source": [
        "dados4-dados4"
      ],
      "execution_count": 21,
      "outputs": [
        {
          "output_type": "execute_result",
          "data": {
            "text/plain": [
              "array([[0, 0, 0],\n",
              "       [0, 0, 0]])"
            ]
          },
          "metadata": {},
          "execution_count": 21
        }
      ]
    },
    {
      "cell_type": "code",
      "metadata": {
        "colab": {
          "base_uri": "https://localhost:8080/"
        },
        "id": "MXWanooH4kPP",
        "outputId": "507ee14e-673e-4fe5-f0d6-20b5fc3cae1f"
      },
      "source": [
        "1/dados4"
      ],
      "execution_count": 22,
      "outputs": [
        {
          "output_type": "execute_result",
          "data": {
            "text/plain": [
              "array([[1.        , 0.5       , 0.33333333],\n",
              "       [0.25      , 0.2       , 0.16666667]])"
            ]
          },
          "metadata": {},
          "execution_count": 22
        }
      ]
    },
    {
      "cell_type": "code",
      "metadata": {
        "id": "cJBYhOf94l63"
      },
      "source": [
        "dados5=dados4+dados4"
      ],
      "execution_count": 23,
      "outputs": []
    },
    {
      "cell_type": "code",
      "metadata": {
        "colab": {
          "base_uri": "https://localhost:8080/"
        },
        "id": "AZmTJO2S4qGX",
        "outputId": "5ac99f1f-455d-48a6-ecc7-c8d89248a969"
      },
      "source": [
        "dados5"
      ],
      "execution_count": 24,
      "outputs": [
        {
          "output_type": "execute_result",
          "data": {
            "text/plain": [
              "array([[ 2,  4,  6],\n",
              "       [ 8, 10, 12]])"
            ]
          },
          "metadata": {},
          "execution_count": 24
        }
      ]
    },
    {
      "cell_type": "code",
      "metadata": {
        "colab": {
          "base_uri": "https://localhost:8080/"
        },
        "id": "6b1BQggn4q3M",
        "outputId": "a6df2d19-cf8a-42a6-94ae-38ae424219c5"
      },
      "source": [
        "dados4"
      ],
      "execution_count": 25,
      "outputs": [
        {
          "output_type": "execute_result",
          "data": {
            "text/plain": [
              "array([[1, 2, 3],\n",
              "       [4, 5, 6]])"
            ]
          },
          "metadata": {},
          "execution_count": 25
        }
      ]
    },
    {
      "cell_type": "code",
      "metadata": {
        "colab": {
          "base_uri": "https://localhost:8080/"
        },
        "id": "trG8E9Ez4unA",
        "outputId": "efbb2ec7-b4d0-4ffe-915f-eb4f8437638b"
      },
      "source": [
        "dados5>dados4"
      ],
      "execution_count": 26,
      "outputs": [
        {
          "output_type": "execute_result",
          "data": {
            "text/plain": [
              "array([[ True,  True,  True],\n",
              "       [ True,  True,  True]])"
            ]
          },
          "metadata": {},
          "execution_count": 26
        }
      ]
    },
    {
      "cell_type": "markdown",
      "metadata": {
        "id": "jx3GE-Iz41Rk"
      },
      "source": [
        "###Indexação"
      ]
    },
    {
      "cell_type": "code",
      "metadata": {
        "colab": {
          "base_uri": "https://localhost:8080/"
        },
        "id": "Vz9fH6Ym4w_O",
        "outputId": "95027bce-75ed-4d99-99a3-3ec1969b0c4e"
      },
      "source": [
        "dadossec"
      ],
      "execution_count": 27,
      "outputs": [
        {
          "output_type": "execute_result",
          "data": {
            "text/plain": [
              "array([0, 1, 2, 3, 4, 5, 6, 7, 8, 9])"
            ]
          },
          "metadata": {},
          "execution_count": 27
        }
      ]
    },
    {
      "cell_type": "code",
      "metadata": {
        "colab": {
          "base_uri": "https://localhost:8080/"
        },
        "id": "7e9zxchz5BN5",
        "outputId": "8f5f079d-2dd6-4e9f-855b-81b5c58c97f6"
      },
      "source": [
        "dadossec[5]"
      ],
      "execution_count": 28,
      "outputs": [
        {
          "output_type": "execute_result",
          "data": {
            "text/plain": [
              "5"
            ]
          },
          "metadata": {},
          "execution_count": 28
        }
      ]
    },
    {
      "cell_type": "markdown",
      "metadata": {
        "id": "zFJxdTBE5B4K"
      },
      "source": [
        "#####Diferente de uma lista Python, um recorte (fatia) de um ndarray sofrerá broadcast - é como se fosse uma view de banco de dados.\n",
        "\n",
        "#####Com conjuntos imensos de dados isso é uma grande vantagem em relação à performance."
      ]
    },
    {
      "cell_type": "code",
      "metadata": {
        "colab": {
          "base_uri": "https://localhost:8080/"
        },
        "id": "qf7cQIpk52eQ",
        "outputId": "1aa7c37c-cc63-44fe-c208-2ff0d06bc2db"
      },
      "source": [
        "dadossec[3:6]"
      ],
      "execution_count": 30,
      "outputs": [
        {
          "output_type": "execute_result",
          "data": {
            "text/plain": [
              "array([3, 4, 5])"
            ]
          },
          "metadata": {},
          "execution_count": 30
        }
      ]
    },
    {
      "cell_type": "code",
      "metadata": {
        "id": "n4l8Ix3J7W8s"
      },
      "source": [
        "dadossec[3:6]=20"
      ],
      "execution_count": 32,
      "outputs": []
    },
    {
      "cell_type": "code",
      "metadata": {
        "colab": {
          "base_uri": "https://localhost:8080/"
        },
        "id": "qX9un5rO7XGR",
        "outputId": "fe73e285-c566-4983-ff58-9a55fdb14c1d"
      },
      "source": [
        "dadossec"
      ],
      "execution_count": 33,
      "outputs": [
        {
          "output_type": "execute_result",
          "data": {
            "text/plain": [
              "array([ 0,  1,  2, 20, 20, 20,  6,  7,  8,  9])"
            ]
          },
          "metadata": {},
          "execution_count": 33
        }
      ]
    },
    {
      "cell_type": "code",
      "metadata": {
        "id": "tdGbiyns7XH2"
      },
      "source": [
        "fatiadados=dadossec[2:4]"
      ],
      "execution_count": 34,
      "outputs": []
    },
    {
      "cell_type": "code",
      "metadata": {
        "colab": {
          "base_uri": "https://localhost:8080/"
        },
        "id": "Fc6nwcNk7XPs",
        "outputId": "cf1f72b0-71f1-4177-c6ef-db45c9dc16db"
      },
      "source": [
        "fatiadados"
      ],
      "execution_count": 35,
      "outputs": [
        {
          "output_type": "execute_result",
          "data": {
            "text/plain": [
              "array([ 2, 20])"
            ]
          },
          "metadata": {},
          "execution_count": 35
        }
      ]
    },
    {
      "cell_type": "code",
      "metadata": {
        "id": "Cu_R9lfF7Xd8"
      },
      "source": [
        "fatiadados[1]=2000"
      ],
      "execution_count": 36,
      "outputs": []
    },
    {
      "cell_type": "code",
      "metadata": {
        "colab": {
          "base_uri": "https://localhost:8080/"
        },
        "id": "s1khksPR7Xrp",
        "outputId": "17d131a0-f7c1-4f94-c24f-cccff6d73ff2"
      },
      "source": [
        "fatiadados"
      ],
      "execution_count": 37,
      "outputs": [
        {
          "output_type": "execute_result",
          "data": {
            "text/plain": [
              "array([   2, 2000])"
            ]
          },
          "metadata": {},
          "execution_count": 37
        }
      ]
    },
    {
      "cell_type": "code",
      "metadata": {
        "colab": {
          "base_uri": "https://localhost:8080/"
        },
        "id": "VbKgzLqF7X9v",
        "outputId": "6e0db442-5e2d-4704-d26e-0babc73e6378"
      },
      "source": [
        "dadossec"
      ],
      "execution_count": 38,
      "outputs": [
        {
          "output_type": "execute_result",
          "data": {
            "text/plain": [
              "array([   0,    1,    2, 2000,   20,   20,    6,    7,    8,    9])"
            ]
          },
          "metadata": {},
          "execution_count": 38
        }
      ]
    },
    {
      "cell_type": "code",
      "metadata": {
        "id": "kNJqafwL7YLC"
      },
      "source": [
        "fatiadados[:]=333"
      ],
      "execution_count": 39,
      "outputs": []
    },
    {
      "cell_type": "code",
      "metadata": {
        "colab": {
          "base_uri": "https://localhost:8080/"
        },
        "id": "YdXGEKpa7YYj",
        "outputId": "55ec4c64-6835-47d6-d4d6-c9757f881e47"
      },
      "source": [
        "fatiadados"
      ],
      "execution_count": 40,
      "outputs": [
        {
          "output_type": "execute_result",
          "data": {
            "text/plain": [
              "array([333, 333])"
            ]
          },
          "metadata": {},
          "execution_count": 40
        }
      ]
    },
    {
      "cell_type": "code",
      "metadata": {
        "colab": {
          "base_uri": "https://localhost:8080/"
        },
        "id": "MgA8088r8SFn",
        "outputId": "96974e55-4098-4cfb-8048-665ade6dd109"
      },
      "source": [
        "dadossec"
      ],
      "execution_count": 41,
      "outputs": [
        {
          "output_type": "execute_result",
          "data": {
            "text/plain": [
              "array([  0,   1, 333, 333,  20,  20,   6,   7,   8,   9])"
            ]
          },
          "metadata": {},
          "execution_count": 41
        }
      ]
    },
    {
      "cell_type": "markdown",
      "metadata": {
        "id": "QEI-AHoY8Z1p"
      },
      "source": [
        "###Copiar dados"
      ]
    },
    {
      "cell_type": "code",
      "metadata": {
        "id": "lMh0mBs58dup"
      },
      "source": [
        "fatia2=dadossec[2:4].copy()"
      ],
      "execution_count": 48,
      "outputs": []
    },
    {
      "cell_type": "code",
      "metadata": {
        "colab": {
          "base_uri": "https://localhost:8080/"
        },
        "id": "zlLwiqE9R8ds",
        "outputId": "ba70589c-69ed-4adf-b5cc-c9ffa2594a8b"
      },
      "source": [
        "fatia2"
      ],
      "execution_count": 49,
      "outputs": [
        {
          "output_type": "execute_result",
          "data": {
            "text/plain": [
              "array([333, 333])"
            ]
          },
          "metadata": {},
          "execution_count": 49
        }
      ]
    },
    {
      "cell_type": "code",
      "metadata": {
        "id": "2jv0DFs2R-9C"
      },
      "source": [
        "fatia2[:]=111"
      ],
      "execution_count": 50,
      "outputs": []
    },
    {
      "cell_type": "code",
      "metadata": {
        "colab": {
          "base_uri": "https://localhost:8080/"
        },
        "id": "L12qX55aSLmh",
        "outputId": "7569cc67-eceb-42e2-a76f-0ad182e7d2d0"
      },
      "source": [
        "fatia2"
      ],
      "execution_count": 51,
      "outputs": [
        {
          "output_type": "execute_result",
          "data": {
            "text/plain": [
              "array([111, 111])"
            ]
          },
          "metadata": {},
          "execution_count": 51
        }
      ]
    },
    {
      "cell_type": "code",
      "metadata": {
        "colab": {
          "base_uri": "https://localhost:8080/"
        },
        "id": "DxKndyUNSM1g",
        "outputId": "fe29d08d-8242-4ac3-9ada-9d48a67dd174"
      },
      "source": [
        "dadossec"
      ],
      "execution_count": 52,
      "outputs": [
        {
          "output_type": "execute_result",
          "data": {
            "text/plain": [
              "array([  0,   1, 333, 333,  20,  20,   6,   7,   8,   9])"
            ]
          },
          "metadata": {},
          "execution_count": 52
        }
      ]
    },
    {
      "cell_type": "markdown",
      "metadata": {
        "id": "nDFvFdFTSroJ"
      },
      "source": [
        "###Array com mais de uma dimensão"
      ]
    },
    {
      "cell_type": "code",
      "metadata": {
        "id": "bS5ecF-ySuYZ"
      },
      "source": [
        "dados6=np.array([[1,2,3],[4,5,6],[7,8,9]])"
      ],
      "execution_count": 57,
      "outputs": []
    },
    {
      "cell_type": "code",
      "metadata": {
        "colab": {
          "base_uri": "https://localhost:8080/"
        },
        "id": "jqfLIQgtTHH_",
        "outputId": "135d75fe-3da4-4861-9137-b4ff0681ae9f"
      },
      "source": [
        "dados6"
      ],
      "execution_count": 58,
      "outputs": [
        {
          "output_type": "execute_result",
          "data": {
            "text/plain": [
              "array([[1, 2, 3],\n",
              "       [4, 5, 6],\n",
              "       [7, 8, 9]])"
            ]
          },
          "metadata": {},
          "execution_count": 58
        }
      ]
    },
    {
      "cell_type": "code",
      "metadata": {
        "colab": {
          "base_uri": "https://localhost:8080/"
        },
        "id": "6V56X9iTTIO8",
        "outputId": "c6cf6f89-ad51-4147-ccc1-6ee1add75c70"
      },
      "source": [
        "dados6[1:2]"
      ],
      "execution_count": 59,
      "outputs": [
        {
          "output_type": "execute_result",
          "data": {
            "text/plain": [
              "array([[4, 5, 6]])"
            ]
          },
          "metadata": {},
          "execution_count": 59
        }
      ]
    },
    {
      "cell_type": "code",
      "metadata": {
        "colab": {
          "base_uri": "https://localhost:8080/"
        },
        "id": "duVuXK4cTPVT",
        "outputId": "fd8baa13-98d4-4a3c-df88-a5361b493ffb"
      },
      "source": [
        "dados6[1,2]"
      ],
      "execution_count": 60,
      "outputs": [
        {
          "output_type": "execute_result",
          "data": {
            "text/plain": [
              "6"
            ]
          },
          "metadata": {},
          "execution_count": 60
        }
      ]
    },
    {
      "cell_type": "markdown",
      "metadata": {
        "id": "fhsFuRFtUg3D"
      },
      "source": [
        "###Máscaras"
      ]
    },
    {
      "cell_type": "code",
      "metadata": {
        "colab": {
          "base_uri": "https://localhost:8080/"
        },
        "id": "2UpybNNeUilK",
        "outputId": "49dc841f-025f-486f-ea5b-ac11c16b9970"
      },
      "source": [
        "dadossec"
      ],
      "execution_count": 61,
      "outputs": [
        {
          "output_type": "execute_result",
          "data": {
            "text/plain": [
              "array([  0,   1, 333, 333,  20,  20,   6,   7,   8,   9])"
            ]
          },
          "metadata": {},
          "execution_count": 61
        }
      ]
    },
    {
      "cell_type": "code",
      "metadata": {
        "id": "xkkn8Wj4U-kq"
      },
      "source": [
        "mascara=dadossec<100"
      ],
      "execution_count": 64,
      "outputs": []
    },
    {
      "cell_type": "code",
      "metadata": {
        "colab": {
          "base_uri": "https://localhost:8080/"
        },
        "id": "MDzt26dhVCTm",
        "outputId": "0fd3b425-6312-46b1-e8ff-55ce8485a745"
      },
      "source": [
        "mascara"
      ],
      "execution_count": 63,
      "outputs": [
        {
          "output_type": "execute_result",
          "data": {
            "text/plain": [
              "array([ True,  True, False, False, False, False, False, False, False,\n",
              "       False])"
            ]
          },
          "metadata": {},
          "execution_count": 63
        }
      ]
    },
    {
      "cell_type": "code",
      "metadata": {
        "id": "xwCQC8tQVDkR"
      },
      "source": [
        "dadossec[dadossec<20]=888"
      ],
      "execution_count": 65,
      "outputs": []
    },
    {
      "cell_type": "code",
      "metadata": {
        "colab": {
          "base_uri": "https://localhost:8080/"
        },
        "id": "aBNqPJFKVWZV",
        "outputId": "b57ceb50-2dbc-4bb0-c09c-2d4494e716b0"
      },
      "source": [
        "dadossec"
      ],
      "execution_count": 66,
      "outputs": [
        {
          "output_type": "execute_result",
          "data": {
            "text/plain": [
              "array([888, 888, 333, 333,  20,  20, 888, 888, 888, 888])"
            ]
          },
          "metadata": {},
          "execution_count": 66
        }
      ]
    },
    {
      "cell_type": "code",
      "metadata": {
        "id": "xmKXp-uzVYR1"
      },
      "source": [
        "dadossec[dadossec>20]=8.2"
      ],
      "execution_count": 72,
      "outputs": []
    },
    {
      "cell_type": "code",
      "metadata": {
        "colab": {
          "base_uri": "https://localhost:8080/"
        },
        "id": "AUc0ewrSVc07",
        "outputId": "4728a34b-993c-4edc-ed41-bd27a22ade5b"
      },
      "source": [
        "dadossec"
      ],
      "execution_count": 73,
      "outputs": [
        {
          "output_type": "execute_result",
          "data": {
            "text/plain": [
              "array([ 8,  8,  8,  8, 20, 20,  8,  8,  8,  8])"
            ]
          },
          "metadata": {},
          "execution_count": 73
        }
      ]
    },
    {
      "cell_type": "code",
      "metadata": {
        "id": "VC5aARP7Vgy6"
      },
      "source": [
        "dadossec[dadossec<20]=False"
      ],
      "execution_count": 80,
      "outputs": []
    },
    {
      "cell_type": "code",
      "metadata": {
        "colab": {
          "base_uri": "https://localhost:8080/"
        },
        "id": "NIS4ScTdV2Ks",
        "outputId": "94f66390-7d01-4abe-9925-ebe9f7b84242"
      },
      "source": [
        "dadossec"
      ],
      "execution_count": 82,
      "outputs": [
        {
          "output_type": "execute_result",
          "data": {
            "text/plain": [
              "array([888, 888, 888, 888,  20,  20, 888, 888, 888, 888])"
            ]
          },
          "metadata": {},
          "execution_count": 82
        }
      ]
    },
    {
      "cell_type": "code",
      "metadata": {
        "id": "B-2OjRvyV2zz"
      },
      "source": [
        "dadossec[2:4]=333"
      ],
      "execution_count": 85,
      "outputs": []
    },
    {
      "cell_type": "code",
      "metadata": {
        "colab": {
          "base_uri": "https://localhost:8080/"
        },
        "id": "OP-ENVKjV6Lk",
        "outputId": "78033868-b23e-40b0-c395-845551fcb8df"
      },
      "source": [
        "dadossec"
      ],
      "execution_count": 86,
      "outputs": [
        {
          "output_type": "execute_result",
          "data": {
            "text/plain": [
              "array([888, 888, 333, 333,  20,  20, 888, 888, 888, 888])"
            ]
          },
          "metadata": {},
          "execution_count": 86
        }
      ]
    },
    {
      "cell_type": "markdown",
      "metadata": {
        "id": "Dtx7LTvjWYrf"
      },
      "source": [
        "###Transposição"
      ]
    },
    {
      "cell_type": "code",
      "metadata": {
        "id": "7h1lBDXjWZ7X"
      },
      "source": [
        "dados7=np.arange(15).reshape((3,5))"
      ],
      "execution_count": 89,
      "outputs": []
    },
    {
      "cell_type": "code",
      "metadata": {
        "colab": {
          "base_uri": "https://localhost:8080/"
        },
        "id": "PATdV0V0Wipf",
        "outputId": "a2083869-a972-40fe-eecf-bb608761f155"
      },
      "source": [
        "dados7"
      ],
      "execution_count": 90,
      "outputs": [
        {
          "output_type": "execute_result",
          "data": {
            "text/plain": [
              "array([[ 0,  1,  2,  3,  4],\n",
              "       [ 5,  6,  7,  8,  9],\n",
              "       [10, 11, 12, 13, 14]])"
            ]
          },
          "metadata": {},
          "execution_count": 90
        }
      ]
    },
    {
      "cell_type": "code",
      "metadata": {
        "colab": {
          "base_uri": "https://localhost:8080/"
        },
        "id": "mL3ogx_pWjjU",
        "outputId": "7d4ae6a9-5684-4d19-82cd-94e1988d98d0"
      },
      "source": [
        "dados7.T"
      ],
      "execution_count": 91,
      "outputs": [
        {
          "output_type": "execute_result",
          "data": {
            "text/plain": [
              "array([[ 0,  5, 10],\n",
              "       [ 1,  6, 11],\n",
              "       [ 2,  7, 12],\n",
              "       [ 3,  8, 13],\n",
              "       [ 4,  9, 14]])"
            ]
          },
          "metadata": {},
          "execution_count": 91
        }
      ]
    },
    {
      "cell_type": "markdown",
      "metadata": {
        "id": "eO8AF59JW1oM"
      },
      "source": [
        "###Multiplicação de matrizes com DOTS (.dot)"
      ]
    },
    {
      "cell_type": "code",
      "metadata": {
        "colab": {
          "base_uri": "https://localhost:8080/"
        },
        "id": "dYU0C40IW4-r",
        "outputId": "df814698-8b20-4f54-dbfa-7b63a46baded"
      },
      "source": [
        "np.dot(dados7.T,dados7)"
      ],
      "execution_count": 93,
      "outputs": [
        {
          "output_type": "execute_result",
          "data": {
            "text/plain": [
              "array([[125, 140, 155, 170, 185],\n",
              "       [140, 158, 176, 194, 212],\n",
              "       [155, 176, 197, 218, 239],\n",
              "       [170, 194, 218, 242, 266],\n",
              "       [185, 212, 239, 266, 293]])"
            ]
          },
          "metadata": {},
          "execution_count": 93
        }
      ]
    },
    {
      "cell_type": "markdown",
      "metadata": {
        "id": "TpvaqhsyXPmu"
      },
      "source": [
        "Veja que há muitas outras funções que podem ser exploradas como: sin, cos, power, mod, sqrt entre outras "
      ]
    }
  ]
}