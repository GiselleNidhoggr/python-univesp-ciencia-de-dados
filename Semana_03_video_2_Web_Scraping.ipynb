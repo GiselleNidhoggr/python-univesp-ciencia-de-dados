{
  "nbformat": 4,
  "nbformat_minor": 0,
  "metadata": {
    "colab": {
      "name": "Semana 03 - video 2 - Web Scraping.ipynb",
      "provenance": [],
      "authorship_tag": "ABX9TyP7NfjedpbJ1QPBbDt55phU",
      "include_colab_link": true
    },
    "kernelspec": {
      "name": "python3",
      "display_name": "Python 3"
    },
    "language_info": {
      "name": "python"
    }
  },
  "cells": [
    {
      "cell_type": "markdown",
      "metadata": {
        "id": "view-in-github",
        "colab_type": "text"
      },
      "source": [
        "<a href=\"https://colab.research.google.com/github/GiselleOAlmeida/python-univesp-ciencia-de-dados/blob/main/Semana_03_video_2_Web_Scraping.ipynb\" target=\"_parent\"><img src=\"https://colab.research.google.com/assets/colab-badge.svg\" alt=\"Open In Colab\"/></a>"
      ]
    },
    {
      "cell_type": "markdown",
      "metadata": {
        "id": "dcKS74kHTSMB"
      },
      "source": [
        "#Introdução Web Scraping\n"
      ]
    },
    {
      "cell_type": "markdown",
      "metadata": {
        "id": "7k4gxhucUtZ0"
      },
      "source": [
        "####Busca e coleta de dados de uma fonte que não seja um API\n",
        "####As bibliotecas mas conhecidas são: beautifulsoup, selenium, scrapy"
      ]
    },
    {
      "cell_type": "markdown",
      "metadata": {
        "id": "1AvHgCKQWPaO"
      },
      "source": [
        "###Importar as biblioteca"
      ]
    },
    {
      "cell_type": "code",
      "metadata": {
        "id": "ZtIYazl0WSnU"
      },
      "source": [
        "import requests\n",
        "import pandas as pd\n",
        "from bs4 import BeautifulSoup"
      ],
      "execution_count": 1,
      "outputs": []
    },
    {
      "cell_type": "markdown",
      "metadata": {
        "id": "EIzwC99tYQ9Y"
      },
      "source": [
        "###Vamos dar uma olhada na página que vamos fazer scraping\n",
        "Vamos inspecionar ela: \n",
        "https://statisticstimes.com/tech/top-computer-languages.php\n",
        "\n",
        "###Depois vamos fazer scraping"
      ]
    },
    {
      "cell_type": "code",
      "metadata": {
        "id": "K_V8DwBxWjxT"
      },
      "source": [
        "html=requests.get(\"https://statisticstimes.com/tech/top-computer-languages.php\").content\n",
        "soup=BeautifulSoup(html,'html5lib')"
      ],
      "execution_count": 2,
      "outputs": []
    },
    {
      "cell_type": "markdown",
      "metadata": {
        "id": "gtVMR9iUaWH2"
      },
      "source": [
        "###Com a biblioteca BeautifulSoup vamos encontrar o primeiro parágrafo, pegar a tag P"
      ]
    },
    {
      "cell_type": "code",
      "metadata": {
        "colab": {
          "base_uri": "https://localhost:8080/"
        },
        "id": "5ukX5jN3alDt",
        "outputId": "e5ca72c8-1db2-4e13-da15-efccf309e84c"
      },
      "source": [
        "primeiro_paragrafo=soup.find('p')\n",
        "primeiro_paragrafo"
      ],
      "execution_count": 4,
      "outputs": [
        {
          "output_type": "execute_result",
          "data": {
            "text/plain": [
              "<p>C is the most widely popular programming language in TIOBE Index, while Python is the most searched language\n",
              "in PYPL Index. Python and Java closely follow Top-ranked C in TIOBE. In PYPL, a gap is wider as top-ranked Python\n",
              "has taken a lead of over 12% from 2nd ranked Java.</p>"
            ]
          },
          "metadata": {},
          "execution_count": 4
        }
      ]
    },
    {
      "cell_type": "code",
      "metadata": {
        "colab": {
          "base_uri": "https://localhost:8080/",
          "height": 53
        },
        "id": "QEN9IFvfaU-4",
        "outputId": "3f4d4278-bcae-4f91-8860-9f6ac63dda52"
      },
      "source": [
        "primeiro_paragrafo.text"
      ],
      "execution_count": 5,
      "outputs": [
        {
          "output_type": "execute_result",
          "data": {
            "application/vnd.google.colaboratory.intrinsic+json": {
              "type": "string"
            },
            "text/plain": [
              "'C is the most widely popular programming language in TIOBE Index, while Python is the most searched language\\nin PYPL Index. Python and Java closely follow Top-ranked C in TIOBE. In PYPL, a gap is wider as top-ranked Python\\nhas taken a lead of over 12% from 2nd ranked Java.'"
            ]
          },
          "metadata": {},
          "execution_count": 5
        }
      ]
    },
    {
      "cell_type": "markdown",
      "metadata": {
        "id": "IOOPqpkPmsOH"
      },
      "source": [
        "###Agora vamos pegar todos os parágrafos com a função find_all"
      ]
    },
    {
      "cell_type": "code",
      "metadata": {
        "id": "ZXcMGedBmoBt"
      },
      "source": [
        "todos_paragrafos=soup.find_all('p')"
      ],
      "execution_count": 6,
      "outputs": []
    },
    {
      "cell_type": "code",
      "metadata": {
        "colab": {
          "base_uri": "https://localhost:8080/"
        },
        "id": "qIR4hpWim7-i",
        "outputId": "f088e060-85ff-4c62-ab98-dc5a10916f13"
      },
      "source": [
        "todos_paragrafos"
      ],
      "execution_count": 7,
      "outputs": [
        {
          "output_type": "execute_result",
          "data": {
            "text/plain": [
              "[<p>C is the most widely popular programming language in TIOBE Index, while Python is the most searched language\n",
              " in PYPL Index. Python and Java closely follow Top-ranked C in TIOBE. In PYPL, a gap is wider as top-ranked Python\n",
              " has taken a lead of over 12% from 2nd ranked Java.</p>,\n",
              " <p><b>TIOBE:</b> Python has overtaken Java at 2nd position and is most likely to overtake top-ranked C because C \n",
              " is (just like Java) losing popularity. These three languages are way ahead of others in TIOBE Index. C++ is at\n",
              " 4th while C# and Visual Basic .NET are very close to each other at 5th and 6th number. Data Mining and AI languages \n",
              " are booming in the TIOBE index. Even old languages see a revival because of this, like the surge of Fortran. \n",
              " And, even more astonishing, we see Prolog re-entering the top 20 after 15 years... making an unexpected comeback. \n",
              " Prolog is used in IBM's Watson, one of the most well known AI engines.</p>,\n",
              " <p>Java, C and PHP have negative trends in the past years. PHP was at 3rd position in Mar 2010 is now at 8th. Positions of Java \n",
              " and C have not been much affected, but their ratings are constantly declining. The rating of Java has declined \n",
              " from 26.49% in June 2001 to 10.43% in Aug 2021 and C has declined from 20.24% in June 2001 to 12.57% in Aug 2021.</p>,\n",
              " <p><b>PYPL:</b> Acc to PYPL, which publishes separate ranking for five countries, Python is the top language in all five countries\n",
              " (US, India, Germany, United Kingdom, France). Python has taken a huge lead in these five countries over the 2nd number\n",
              " of Java, and its shares are even more than double of Java in Germany, United Kingdom, and France. These top two account for almost\n",
              " half (48%) of the global search. Python has the highest share in United Kingdom, close to 34%, and the lowest 31% in India.</p>,\n",
              " <p>PHP is the biggest loser in recent years. Its share was over 20% in 2008; now, this fig is only 5.76 % in 2021. \n",
              " Java is too declining but not as fast as PHP. Java's contribution was over 31% in 2008, and still, it holds 18%. In \n",
              " 2004-2009, 50% of the search was of either Java or PHP.</p>,\n",
              " <p><b>TIOBE Index:</b> TIOBE ratings are calculated by counting hits of the most popular search engines. Twenty-five \n",
              " search engines are used to calculate the TIOBE index. The TIOBE Programming Community index is an indicator of the\n",
              "  popularity of programming languages. The index started in the year 2001 and updated once a month.</p>,\n",
              " <p><b>PYPL Index:</b> The PYPL PopularitY of Programming Language Index is created by analyzing how often language\n",
              "  tutorials are searched on Google. The index is updated once a month.</p>]"
            ]
          },
          "metadata": {},
          "execution_count": 7
        }
      ]
    },
    {
      "cell_type": "code",
      "metadata": {
        "colab": {
          "base_uri": "https://localhost:8080/"
        },
        "id": "6X1szMCGm-kq",
        "outputId": "ad80f53c-a689-44d7-b905-d0da18efc049"
      },
      "source": [
        "todos_paragrafos[0]"
      ],
      "execution_count": 8,
      "outputs": [
        {
          "output_type": "execute_result",
          "data": {
            "text/plain": [
              "<p>C is the most widely popular programming language in TIOBE Index, while Python is the most searched language\n",
              "in PYPL Index. Python and Java closely follow Top-ranked C in TIOBE. In PYPL, a gap is wider as top-ranked Python\n",
              "has taken a lead of over 12% from 2nd ranked Java.</p>"
            ]
          },
          "metadata": {},
          "execution_count": 8
        }
      ]
    },
    {
      "cell_type": "code",
      "metadata": {
        "colab": {
          "base_uri": "https://localhost:8080/"
        },
        "id": "fo8X2t3znSWc",
        "outputId": "130fb62e-29d4-49bc-bead-197bd7ec5f2e"
      },
      "source": [
        "todos_paragrafos[-1]"
      ],
      "execution_count": 10,
      "outputs": [
        {
          "output_type": "execute_result",
          "data": {
            "text/plain": [
              "<p><b>PYPL Index:</b> The PYPL PopularitY of Programming Language Index is created by analyzing how often language\n",
              " tutorials are searched on Google. The index is updated once a month.</p>"
            ]
          },
          "metadata": {},
          "execution_count": 10
        }
      ]
    },
    {
      "cell_type": "markdown",
      "metadata": {
        "id": "YZERBoAtnjul"
      },
      "source": [
        "###Agora vamos pegar todos os links"
      ]
    },
    {
      "cell_type": "code",
      "metadata": {
        "id": "w_vm0YE1nUzz"
      },
      "source": [
        "todos_links=soup.find_all('a')"
      ],
      "execution_count": 14,
      "outputs": []
    },
    {
      "cell_type": "code",
      "metadata": {
        "colab": {
          "base_uri": "https://localhost:8080/"
        },
        "id": "nNqs0Bt6n4YD",
        "outputId": "ae0fd1c1-0f2c-4732-d9bb-d2b3cf3d1a93"
      },
      "source": [
        "todos_links"
      ],
      "execution_count": 15,
      "outputs": [
        {
          "output_type": "execute_result",
          "data": {
            "text/plain": [
              "[<a href=\"/index.php\">\n",
              " <img alt=\"statisticstimes\" height=\"90\" src=\"/statistics.png\" width=\"200\"/>\n",
              " </a>,\n",
              " <a href=\"/index.php\">World</a>,\n",
              " <a href=\"/india.php\">India</a>,\n",
              " <a href=\"/economy/world-statistics.php\">World</a>,\n",
              " <a href=\"/economy/country-statistics.php\">Country</a>,\n",
              " <a href=\"/economy/india-statistics.php\">India</a>,\n",
              " <a href=\"/demographics/world-statistics.php\">World</a>,\n",
              " <a href=\"/demographics/country-statistics.php\">Country</a>,\n",
              " <a href=\"/demographics/india-statistics.php\">India</a>,\n",
              " <a href=\"/health/coronavirus-statistics.php\">Coronavirus</a>,\n",
              " <a href=\"/politics/india-statistics.php\">India</a>,\n",
              " <a href=\"/geography/world-statistics.php\">World</a>,\n",
              " <a href=\"/geography/india-statistics.php\">India</a>,\n",
              " <a href=\"/tech/world-statistics.php\">Tech</a>,\n",
              " <a href=\"/sports/world-statistics.php\">World</a>,\n",
              " <a href=\"/sports/india-statistics.php\">India</a>,\n",
              " <a href=\"/ranking/world-statistics.php\">Ranking</a>,\n",
              " <a href=\"/article/world-statistics.php\">World</a>,\n",
              " <a href=\"/article/india-statistics.php\">India</a>,\n",
              " <a href=\"https://www.tiobe.com/tiobe-index/\" target=\"_blank\">TIOBE Index</a>,\n",
              " <a href=\"http://pypl.github.io/PYPL.html\" target=\"_blank\">PYPL PopularitY of Programming Language Index</a>,\n",
              " <a class=\"ls\" href=\"/sports/olympics/olympics-medal-table.php\">\n",
              "        Olympics Medal Table 2020</a>,\n",
              " <a class=\"ls\" href=\"/economy/continents-by-gdp-per-capita.php\">\n",
              "        List of continents by gdp per capita</a>,\n",
              " <a class=\"ls\" href=\"/demographics/world-urban-population.php\">\n",
              "        World urban population</a>,\n",
              " <a href=\"/about.php\" style=\"text-decoration: none;\"> About US</a>,\n",
              " <a href=\"/termsofuse.php\" style=\"text-decoration: none;\"> Terms Of Use </a>,\n",
              " <a href=\"/privacy.php\" style=\"text-decoration: none;\"> Privacy Policy </a>,\n",
              " <a href=\"/contact.php\" style=\"text-decoration: none;\"> Contact Us </a>]"
            ]
          },
          "metadata": {},
          "execution_count": 15
        }
      ]
    },
    {
      "cell_type": "markdown",
      "metadata": {
        "id": "6aSv4dbloaAC"
      },
      "source": [
        "#Vamos inspecionar a tabela, pra pegar os dados da tabela 'PYPL Index (World Wide)'\n",
        "###Necessário inspecionar o elemento da página WEB e encontrar o nome da tabela(tablei_d1).\n",
        "```exemplo=soup.find().find()```"
      ]
    },
    {
      "cell_type": "code",
      "metadata": {
        "colab": {
          "base_uri": "https://localhost:8080/"
        },
        "id": "pukw-I_0n7-H",
        "outputId": "756c2f55-3da9-4209-d9d4-6be448fbe3d3"
      },
      "source": [
        "tabela=soup.find('table',{'id':'table_id1'}).find('tbody')\n",
        "tabela"
      ],
      "execution_count": 20,
      "outputs": [
        {
          "output_type": "execute_result",
          "data": {
            "text/plain": [
              "<tbody>\n",
              "<tr><td class=\"data1\">1</td><td class=\"data1\"></td><td class=\"name\">Python</td><td class=\"data1\"> 29.93 %</td><td class=\"data1\">-2.2 %</td></tr>\n",
              "<tr><td class=\"data1\">2</td><td class=\"data1\"></td><td class=\"name\">Java</td><td class=\"data1\"> 17.78 %</td><td class=\"data1\">+1.2 %</td></tr>\n",
              "<tr><td class=\"data1\">3</td><td class=\"data1\"></td><td class=\"name\">JavaScript</td><td class=\"data1\"> 8.79 %</td><td class=\"data1\">+0.6 %</td></tr>\n",
              "<tr><td class=\"data1\">4</td><td class=\"data1\"></td><td class=\"name\">C#</td><td class=\"data1\"> 6.73 %</td><td class=\"data1\">+0.2 %</td></tr>\n",
              "<tr><td class=\"data1\">5</td><td class=\"data1\">↑</td><td class=\"name\">C/C++</td><td class=\"data1\"> 6.45 %</td><td class=\"data1\">+0.7 %</td></tr>\n",
              "<tr><td class=\"data1\">6</td><td class=\"data1\">↓</td><td class=\"name\">PHP</td><td class=\"data1\"> 5.76 %</td><td class=\"data1\">-0.0 %</td></tr>\n",
              "<tr><td class=\"data1\">7</td><td class=\"data1\"></td><td class=\"name\">R</td><td class=\"data1\"> 3.92 %</td><td class=\"data1\">-0.1 %</td></tr>\n",
              "<tr><td class=\"data1\">8</td><td class=\"data1\"></td><td class=\"name\">Objective-C</td><td class=\"data1\"> 2.26 %</td><td class=\"data1\">-0.3 %</td></tr>\n",
              "<tr><td class=\"data1\">9</td><td class=\"data1\">↑</td><td class=\"name\">TypeScript</td><td class=\"data1\"> 2.11 %</td><td class=\"data1\">+0.2 %</td></tr>\n",
              "<tr><td class=\"data1\">10</td><td class=\"data1\">↓</td><td class=\"name\">Swift</td><td class=\"data1\"> 1.96 %</td><td class=\"data1\">-0.3 %</td></tr>\n",
              "<tr><td class=\"data1\">11</td><td class=\"data1\">↑</td><td class=\"name\">Kotlin</td><td class=\"data1\"> 1.81 %</td><td class=\"data1\">+0.3 %</td></tr>\n",
              "<tr><td class=\"data1\">12</td><td class=\"data1\">↓</td><td class=\"name\">Matlab</td><td class=\"data1\"> 1.48 %</td><td class=\"data1\">-0.4 %</td></tr>\n",
              "<tr><td class=\"data1\">13</td><td class=\"data1\"></td><td class=\"name\">Go</td><td class=\"data1\"> 1.29 %</td><td class=\"data1\">-0.2 %</td></tr>\n",
              "<tr><td class=\"data1\">14</td><td class=\"data1\">↑↑</td><td class=\"name\">Rust</td><td class=\"data1\"> 1.21 %</td><td class=\"data1\">+0.2 %</td></tr>\n",
              "<tr><td class=\"data1\">15</td><td class=\"data1\">↓</td><td class=\"name\">VBA</td><td class=\"data1\"> 1.16 %</td><td class=\"data1\">-0.1 %</td></tr>\n",
              "<tr><td class=\"data1\">16</td><td class=\"data1\">↓</td><td class=\"name\">Ruby</td><td class=\"data1\"> 1.02 %</td><td class=\"data1\">-0.1 %</td></tr>\n",
              "<tr><td class=\"data1\">17</td><td class=\"data1\"></td><td class=\"name\">Scala</td><td class=\"data1\"> 0.79 %</td><td class=\"data1\">-0.1 %</td></tr>\n",
              "<tr><td class=\"data1\">18</td><td class=\"data1\">↑</td><td class=\"name\">Ada</td><td class=\"data1\"> 0.77 %</td><td class=\"data1\">+0.2 %</td></tr>\n",
              "<tr><td class=\"data1\">19</td><td class=\"data1\">↓</td><td class=\"name\">Visual Basic</td><td class=\"data1\"> 0.75 %</td><td class=\"data1\">+0.0 %</td></tr>\n",
              "<tr><td class=\"data1\">20</td><td class=\"data1\"></td><td class=\"name\">Dart</td><td class=\"data1\"> 0.68 %</td><td class=\"data1\">+0.2 %</td></tr>\n",
              "<tr><td class=\"data1\">21</td><td class=\"data1\"></td><td class=\"name\">Lua</td><td class=\"data1\"> 0.58 %</td><td class=\"data1\">+0.1 %</td></tr>\n",
              "<tr><td class=\"data1\">22</td><td class=\"data1\">↑↑</td><td class=\"name\">Cobol</td><td class=\"data1\"> 0.51 %</td><td class=\"data1\">+0.1 %</td></tr>\n",
              "<tr><td class=\"data1\">23</td><td class=\"data1\"></td><td class=\"name\">Groovy</td><td class=\"data1\"> 0.51 %</td><td class=\"data1\">+0.1 %</td></tr>\n",
              "<tr><td class=\"data1\">24</td><td class=\"data1\">↓↓</td><td class=\"name\">Abap</td><td class=\"data1\"> 0.46 %</td><td class=\"data1\">-0.0 %</td></tr>\n",
              "<tr><td class=\"data1\">25</td><td class=\"data1\">↑</td><td class=\"name\">Perl</td><td class=\"data1\"> 0.45 %</td><td class=\"data1\">+0.1 %</td></tr>\n",
              "<tr><td class=\"data1\">26</td><td class=\"data1\">↓</td><td class=\"name\">Julia</td><td class=\"data1\"> 0.39 %</td><td class=\"data1\">-0.0 %</td></tr>\n",
              "<tr><td class=\"data1\">27</td><td class=\"data1\">↑</td><td class=\"name\">Haskell</td><td class=\"data1\"> 0.24 %</td><td class=\"data1\">-0.0 %</td></tr>\n",
              "<tr><td class=\"data1\">28</td><td class=\"data1\">↓</td><td class=\"name\">Delphi/Pascal</td><td class=\"data1\"> 0.2 %</td><td class=\"data1\">-0.1 %</td></tr>\n",
              "</tbody>"
            ]
          },
          "metadata": {},
          "execution_count": 20
        }
      ]
    },
    {
      "cell_type": "code",
      "metadata": {
        "colab": {
          "base_uri": "https://localhost:8080/"
        },
        "id": "K32bAokIqMON",
        "outputId": "f45b0529-de47-4b48-9313-f7ec0a090256"
      },
      "source": [
        "linhas=tabela.find_all('tr')\n",
        "for linha in linhas:\n",
        "    dado=linha.find_all('td')\n",
        "    print(dado[0].text)\n",
        "    print(dado[2].text)\n",
        "    print(dado[3].text)\n",
        "    print('------------')"
      ],
      "execution_count": 22,
      "outputs": [
        {
          "output_type": "stream",
          "name": "stdout",
          "text": [
            "1\n",
            "Python\n",
            " 29.93 %\n",
            "------------\n",
            "2\n",
            "Java\n",
            " 17.78 %\n",
            "------------\n",
            "3\n",
            "JavaScript\n",
            " 8.79 %\n",
            "------------\n",
            "4\n",
            "C#\n",
            " 6.73 %\n",
            "------------\n",
            "5\n",
            "C/C++\n",
            " 6.45 %\n",
            "------------\n",
            "6\n",
            "PHP\n",
            " 5.76 %\n",
            "------------\n",
            "7\n",
            "R\n",
            " 3.92 %\n",
            "------------\n",
            "8\n",
            "Objective-C\n",
            " 2.26 %\n",
            "------------\n",
            "9\n",
            "TypeScript\n",
            " 2.11 %\n",
            "------------\n",
            "10\n",
            "Swift\n",
            " 1.96 %\n",
            "------------\n",
            "11\n",
            "Kotlin\n",
            " 1.81 %\n",
            "------------\n",
            "12\n",
            "Matlab\n",
            " 1.48 %\n",
            "------------\n",
            "13\n",
            "Go\n",
            " 1.29 %\n",
            "------------\n",
            "14\n",
            "Rust\n",
            " 1.21 %\n",
            "------------\n",
            "15\n",
            "VBA\n",
            " 1.16 %\n",
            "------------\n",
            "16\n",
            "Ruby\n",
            " 1.02 %\n",
            "------------\n",
            "17\n",
            "Scala\n",
            " 0.79 %\n",
            "------------\n",
            "18\n",
            "Ada\n",
            " 0.77 %\n",
            "------------\n",
            "19\n",
            "Visual Basic\n",
            " 0.75 %\n",
            "------------\n",
            "20\n",
            "Dart\n",
            " 0.68 %\n",
            "------------\n",
            "21\n",
            "Lua\n",
            " 0.58 %\n",
            "------------\n",
            "22\n",
            "Cobol\n",
            " 0.51 %\n",
            "------------\n",
            "23\n",
            "Groovy\n",
            " 0.51 %\n",
            "------------\n",
            "24\n",
            "Abap\n",
            " 0.46 %\n",
            "------------\n",
            "25\n",
            "Perl\n",
            " 0.45 %\n",
            "------------\n",
            "26\n",
            "Julia\n",
            " 0.39 %\n",
            "------------\n",
            "27\n",
            "Haskell\n",
            " 0.24 %\n",
            "------------\n",
            "28\n",
            "Delphi/Pascal\n",
            " 0.2 %\n",
            "------------\n"
          ]
        }
      ]
    },
    {
      "cell_type": "code",
      "metadata": {
        "id": "x1I5fiEQr5zr"
      },
      "source": [
        "linguagem=[]\n",
        "pontos=[]\n",
        "for linha in linhas:\n",
        "    dado=linha.find_all('td')\n",
        "    linguagem.append(dado[2].text)\n",
        "    pontos.append(dados[3].text)"
      ],
      "execution_count": 23,
      "outputs": []
    },
    {
      "cell_type": "code",
      "metadata": {
        "colab": {
          "base_uri": "https://localhost:8080/"
        },
        "id": "qFie2-res5J9",
        "outputId": "f85fdbe5-29b1-47a1-aa8a-12661bac704a"
      },
      "source": [
        "print(linguagem)\n",
        "print(pontos)"
      ],
      "execution_count": 27,
      "outputs": [
        {
          "output_type": "stream",
          "name": "stdout",
          "text": [
            "['Python', 'Java', 'JavaScript', 'C#', 'C/C++', 'PHP', 'R', 'Objective-C', 'TypeScript', 'Swift', 'Kotlin', 'Matlab', 'Go', 'Rust', 'VBA', 'Ruby', 'Scala', 'Ada', 'Visual Basic', 'Dart', 'Lua', 'Cobol', 'Groovy', 'Abap', 'Perl', 'Julia', 'Haskell', 'Delphi/Pascal']\n",
            "[' 29.93 %', ' 29.93 %', ' 29.93 %', ' 29.93 %', ' 29.93 %', ' 29.93 %', ' 29.93 %', ' 29.93 %', ' 29.93 %', ' 29.93 %', ' 29.93 %', ' 29.93 %', ' 29.93 %', ' 29.93 %', ' 29.93 %', ' 29.93 %', ' 29.93 %', ' 29.93 %', ' 29.93 %', ' 29.93 %', ' 29.93 %', ' 29.93 %', ' 29.93 %', ' 29.93 %', ' 29.93 %', ' 29.93 %', ' 29.93 %', ' 29.93 %']\n"
          ]
        }
      ]
    },
    {
      "cell_type": "code",
      "metadata": {
        "id": "JiTC_K1ls6rO"
      },
      "source": [
        "dados=pd.DataFrame(linguagem,columns=['Linguagem'])"
      ],
      "execution_count": 28,
      "outputs": []
    },
    {
      "cell_type": "code",
      "metadata": {
        "colab": {
          "base_uri": "https://localhost:8080/",
          "height": 907
        },
        "id": "c4BPTqyQtd_g",
        "outputId": "f43aa74f-125f-456e-f208-4fcd5a1cad1e"
      },
      "source": [
        "dados"
      ],
      "execution_count": 29,
      "outputs": [
        {
          "output_type": "execute_result",
          "data": {
            "text/html": [
              "<div>\n",
              "<style scoped>\n",
              "    .dataframe tbody tr th:only-of-type {\n",
              "        vertical-align: middle;\n",
              "    }\n",
              "\n",
              "    .dataframe tbody tr th {\n",
              "        vertical-align: top;\n",
              "    }\n",
              "\n",
              "    .dataframe thead th {\n",
              "        text-align: right;\n",
              "    }\n",
              "</style>\n",
              "<table border=\"1\" class=\"dataframe\">\n",
              "  <thead>\n",
              "    <tr style=\"text-align: right;\">\n",
              "      <th></th>\n",
              "      <th>Linguagem</th>\n",
              "    </tr>\n",
              "  </thead>\n",
              "  <tbody>\n",
              "    <tr>\n",
              "      <th>0</th>\n",
              "      <td>Python</td>\n",
              "    </tr>\n",
              "    <tr>\n",
              "      <th>1</th>\n",
              "      <td>Java</td>\n",
              "    </tr>\n",
              "    <tr>\n",
              "      <th>2</th>\n",
              "      <td>JavaScript</td>\n",
              "    </tr>\n",
              "    <tr>\n",
              "      <th>3</th>\n",
              "      <td>C#</td>\n",
              "    </tr>\n",
              "    <tr>\n",
              "      <th>4</th>\n",
              "      <td>C/C++</td>\n",
              "    </tr>\n",
              "    <tr>\n",
              "      <th>5</th>\n",
              "      <td>PHP</td>\n",
              "    </tr>\n",
              "    <tr>\n",
              "      <th>6</th>\n",
              "      <td>R</td>\n",
              "    </tr>\n",
              "    <tr>\n",
              "      <th>7</th>\n",
              "      <td>Objective-C</td>\n",
              "    </tr>\n",
              "    <tr>\n",
              "      <th>8</th>\n",
              "      <td>TypeScript</td>\n",
              "    </tr>\n",
              "    <tr>\n",
              "      <th>9</th>\n",
              "      <td>Swift</td>\n",
              "    </tr>\n",
              "    <tr>\n",
              "      <th>10</th>\n",
              "      <td>Kotlin</td>\n",
              "    </tr>\n",
              "    <tr>\n",
              "      <th>11</th>\n",
              "      <td>Matlab</td>\n",
              "    </tr>\n",
              "    <tr>\n",
              "      <th>12</th>\n",
              "      <td>Go</td>\n",
              "    </tr>\n",
              "    <tr>\n",
              "      <th>13</th>\n",
              "      <td>Rust</td>\n",
              "    </tr>\n",
              "    <tr>\n",
              "      <th>14</th>\n",
              "      <td>VBA</td>\n",
              "    </tr>\n",
              "    <tr>\n",
              "      <th>15</th>\n",
              "      <td>Ruby</td>\n",
              "    </tr>\n",
              "    <tr>\n",
              "      <th>16</th>\n",
              "      <td>Scala</td>\n",
              "    </tr>\n",
              "    <tr>\n",
              "      <th>17</th>\n",
              "      <td>Ada</td>\n",
              "    </tr>\n",
              "    <tr>\n",
              "      <th>18</th>\n",
              "      <td>Visual Basic</td>\n",
              "    </tr>\n",
              "    <tr>\n",
              "      <th>19</th>\n",
              "      <td>Dart</td>\n",
              "    </tr>\n",
              "    <tr>\n",
              "      <th>20</th>\n",
              "      <td>Lua</td>\n",
              "    </tr>\n",
              "    <tr>\n",
              "      <th>21</th>\n",
              "      <td>Cobol</td>\n",
              "    </tr>\n",
              "    <tr>\n",
              "      <th>22</th>\n",
              "      <td>Groovy</td>\n",
              "    </tr>\n",
              "    <tr>\n",
              "      <th>23</th>\n",
              "      <td>Abap</td>\n",
              "    </tr>\n",
              "    <tr>\n",
              "      <th>24</th>\n",
              "      <td>Perl</td>\n",
              "    </tr>\n",
              "    <tr>\n",
              "      <th>25</th>\n",
              "      <td>Julia</td>\n",
              "    </tr>\n",
              "    <tr>\n",
              "      <th>26</th>\n",
              "      <td>Haskell</td>\n",
              "    </tr>\n",
              "    <tr>\n",
              "      <th>27</th>\n",
              "      <td>Delphi/Pascal</td>\n",
              "    </tr>\n",
              "  </tbody>\n",
              "</table>\n",
              "</div>"
            ],
            "text/plain": [
              "        Linguagem\n",
              "0          Python\n",
              "1            Java\n",
              "2      JavaScript\n",
              "3              C#\n",
              "4           C/C++\n",
              "5             PHP\n",
              "6               R\n",
              "7     Objective-C\n",
              "8      TypeScript\n",
              "9           Swift\n",
              "10         Kotlin\n",
              "11         Matlab\n",
              "12             Go\n",
              "13           Rust\n",
              "14            VBA\n",
              "15           Ruby\n",
              "16          Scala\n",
              "17            Ada\n",
              "18   Visual Basic\n",
              "19           Dart\n",
              "20            Lua\n",
              "21          Cobol\n",
              "22         Groovy\n",
              "23           Abap\n",
              "24           Perl\n",
              "25          Julia\n",
              "26        Haskell\n",
              "27  Delphi/Pascal"
            ]
          },
          "metadata": {},
          "execution_count": 29
        }
      ]
    },
    {
      "cell_type": "code",
      "metadata": {
        "id": "hT4L6CbltfH7"
      },
      "source": [
        "dados['Pontos']=pontos"
      ],
      "execution_count": 30,
      "outputs": []
    },
    {
      "cell_type": "code",
      "metadata": {
        "colab": {
          "base_uri": "https://localhost:8080/",
          "height": 907
        },
        "id": "8iB6XpkktmbK",
        "outputId": "ac797a49-6ff8-43fa-fd4e-82af9fd791a3"
      },
      "source": [
        "dados"
      ],
      "execution_count": 31,
      "outputs": [
        {
          "output_type": "execute_result",
          "data": {
            "text/html": [
              "<div>\n",
              "<style scoped>\n",
              "    .dataframe tbody tr th:only-of-type {\n",
              "        vertical-align: middle;\n",
              "    }\n",
              "\n",
              "    .dataframe tbody tr th {\n",
              "        vertical-align: top;\n",
              "    }\n",
              "\n",
              "    .dataframe thead th {\n",
              "        text-align: right;\n",
              "    }\n",
              "</style>\n",
              "<table border=\"1\" class=\"dataframe\">\n",
              "  <thead>\n",
              "    <tr style=\"text-align: right;\">\n",
              "      <th></th>\n",
              "      <th>Linguagem</th>\n",
              "      <th>Pontos</th>\n",
              "    </tr>\n",
              "  </thead>\n",
              "  <tbody>\n",
              "    <tr>\n",
              "      <th>0</th>\n",
              "      <td>Python</td>\n",
              "      <td>29.93 %</td>\n",
              "    </tr>\n",
              "    <tr>\n",
              "      <th>1</th>\n",
              "      <td>Java</td>\n",
              "      <td>29.93 %</td>\n",
              "    </tr>\n",
              "    <tr>\n",
              "      <th>2</th>\n",
              "      <td>JavaScript</td>\n",
              "      <td>29.93 %</td>\n",
              "    </tr>\n",
              "    <tr>\n",
              "      <th>3</th>\n",
              "      <td>C#</td>\n",
              "      <td>29.93 %</td>\n",
              "    </tr>\n",
              "    <tr>\n",
              "      <th>4</th>\n",
              "      <td>C/C++</td>\n",
              "      <td>29.93 %</td>\n",
              "    </tr>\n",
              "    <tr>\n",
              "      <th>5</th>\n",
              "      <td>PHP</td>\n",
              "      <td>29.93 %</td>\n",
              "    </tr>\n",
              "    <tr>\n",
              "      <th>6</th>\n",
              "      <td>R</td>\n",
              "      <td>29.93 %</td>\n",
              "    </tr>\n",
              "    <tr>\n",
              "      <th>7</th>\n",
              "      <td>Objective-C</td>\n",
              "      <td>29.93 %</td>\n",
              "    </tr>\n",
              "    <tr>\n",
              "      <th>8</th>\n",
              "      <td>TypeScript</td>\n",
              "      <td>29.93 %</td>\n",
              "    </tr>\n",
              "    <tr>\n",
              "      <th>9</th>\n",
              "      <td>Swift</td>\n",
              "      <td>29.93 %</td>\n",
              "    </tr>\n",
              "    <tr>\n",
              "      <th>10</th>\n",
              "      <td>Kotlin</td>\n",
              "      <td>29.93 %</td>\n",
              "    </tr>\n",
              "    <tr>\n",
              "      <th>11</th>\n",
              "      <td>Matlab</td>\n",
              "      <td>29.93 %</td>\n",
              "    </tr>\n",
              "    <tr>\n",
              "      <th>12</th>\n",
              "      <td>Go</td>\n",
              "      <td>29.93 %</td>\n",
              "    </tr>\n",
              "    <tr>\n",
              "      <th>13</th>\n",
              "      <td>Rust</td>\n",
              "      <td>29.93 %</td>\n",
              "    </tr>\n",
              "    <tr>\n",
              "      <th>14</th>\n",
              "      <td>VBA</td>\n",
              "      <td>29.93 %</td>\n",
              "    </tr>\n",
              "    <tr>\n",
              "      <th>15</th>\n",
              "      <td>Ruby</td>\n",
              "      <td>29.93 %</td>\n",
              "    </tr>\n",
              "    <tr>\n",
              "      <th>16</th>\n",
              "      <td>Scala</td>\n",
              "      <td>29.93 %</td>\n",
              "    </tr>\n",
              "    <tr>\n",
              "      <th>17</th>\n",
              "      <td>Ada</td>\n",
              "      <td>29.93 %</td>\n",
              "    </tr>\n",
              "    <tr>\n",
              "      <th>18</th>\n",
              "      <td>Visual Basic</td>\n",
              "      <td>29.93 %</td>\n",
              "    </tr>\n",
              "    <tr>\n",
              "      <th>19</th>\n",
              "      <td>Dart</td>\n",
              "      <td>29.93 %</td>\n",
              "    </tr>\n",
              "    <tr>\n",
              "      <th>20</th>\n",
              "      <td>Lua</td>\n",
              "      <td>29.93 %</td>\n",
              "    </tr>\n",
              "    <tr>\n",
              "      <th>21</th>\n",
              "      <td>Cobol</td>\n",
              "      <td>29.93 %</td>\n",
              "    </tr>\n",
              "    <tr>\n",
              "      <th>22</th>\n",
              "      <td>Groovy</td>\n",
              "      <td>29.93 %</td>\n",
              "    </tr>\n",
              "    <tr>\n",
              "      <th>23</th>\n",
              "      <td>Abap</td>\n",
              "      <td>29.93 %</td>\n",
              "    </tr>\n",
              "    <tr>\n",
              "      <th>24</th>\n",
              "      <td>Perl</td>\n",
              "      <td>29.93 %</td>\n",
              "    </tr>\n",
              "    <tr>\n",
              "      <th>25</th>\n",
              "      <td>Julia</td>\n",
              "      <td>29.93 %</td>\n",
              "    </tr>\n",
              "    <tr>\n",
              "      <th>26</th>\n",
              "      <td>Haskell</td>\n",
              "      <td>29.93 %</td>\n",
              "    </tr>\n",
              "    <tr>\n",
              "      <th>27</th>\n",
              "      <td>Delphi/Pascal</td>\n",
              "      <td>29.93 %</td>\n",
              "    </tr>\n",
              "  </tbody>\n",
              "</table>\n",
              "</div>"
            ],
            "text/plain": [
              "        Linguagem    Pontos\n",
              "0          Python   29.93 %\n",
              "1            Java   29.93 %\n",
              "2      JavaScript   29.93 %\n",
              "3              C#   29.93 %\n",
              "4           C/C++   29.93 %\n",
              "5             PHP   29.93 %\n",
              "6               R   29.93 %\n",
              "7     Objective-C   29.93 %\n",
              "8      TypeScript   29.93 %\n",
              "9           Swift   29.93 %\n",
              "10         Kotlin   29.93 %\n",
              "11         Matlab   29.93 %\n",
              "12             Go   29.93 %\n",
              "13           Rust   29.93 %\n",
              "14            VBA   29.93 %\n",
              "15           Ruby   29.93 %\n",
              "16          Scala   29.93 %\n",
              "17            Ada   29.93 %\n",
              "18   Visual Basic   29.93 %\n",
              "19           Dart   29.93 %\n",
              "20            Lua   29.93 %\n",
              "21          Cobol   29.93 %\n",
              "22         Groovy   29.93 %\n",
              "23           Abap   29.93 %\n",
              "24           Perl   29.93 %\n",
              "25          Julia   29.93 %\n",
              "26        Haskell   29.93 %\n",
              "27  Delphi/Pascal   29.93 %"
            ]
          },
          "metadata": {},
          "execution_count": 31
        }
      ]
    },
    {
      "cell_type": "markdown",
      "metadata": {
        "id": "Kykrh_ayt0oe"
      },
      "source": [
        "####Para esse trabalho de mineração de dados, é necessário ter conhecimento de html.\n",
        "Em muitos projetos de data science, recorre-se ao scraping\n"
      ]
    }
  ]
}