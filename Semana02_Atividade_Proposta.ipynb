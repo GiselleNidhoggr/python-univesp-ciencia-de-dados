{
  "nbformat": 4,
  "nbformat_minor": 0,
  "metadata": {
    "colab": {
      "name": "Semana02_Atividade_Proposta.ipynb",
      "provenance": [],
      "authorship_tag": "ABX9TyMw9YBNEWUk0x5qgJoEAPcT",
      "include_colab_link": true
    },
    "kernelspec": {
      "name": "python3",
      "display_name": "Python 3"
    },
    "language_info": {
      "name": "python"
    }
  },
  "cells": [
    {
      "cell_type": "markdown",
      "metadata": {
        "id": "view-in-github",
        "colab_type": "text"
      },
      "source": [
        "<a href=\"https://colab.research.google.com/github/GiselleOAlmeida/python-univesp-ciencia-de-dados/blob/main/Semana02_Atividade_Proposta.ipynb\" target=\"_parent\"><img src=\"https://colab.research.google.com/assets/colab-badge.svg\" alt=\"Open In Colab\"/></a>"
      ]
    },
    {
      "cell_type": "markdown",
      "metadata": {
        "id": "a46AgRpuCEbe"
      },
      "source": [
        "# Introdução a Ciência de Dados - Univesp"
      ]
    },
    {
      "cell_type": "markdown",
      "metadata": {
        "id": "63p6DcXACNib"
      },
      "source": [
        "##Exercício de apoio semana 2"
      ]
    },
    {
      "cell_type": "markdown",
      "metadata": {
        "id": "_4Fgans4CUXc"
      },
      "source": [
        "###1 - Carregue as bibliotecas NumPy e Pandas"
      ]
    },
    {
      "cell_type": "code",
      "metadata": {
        "id": "oKIiKAvZCKv6"
      },
      "source": [
        "import numpy as np\n",
        "import pandas as pd"
      ],
      "execution_count": 2,
      "outputs": []
    },
    {
      "cell_type": "markdown",
      "metadata": {
        "id": "u_l8Siz3Cbjz"
      },
      "source": [
        "###2 - Crie um NDArray com os seguintes valores [1, 2.5, 7, -78, -0.9, 130, 25]"
      ]
    },
    {
      "cell_type": "code",
      "metadata": {
        "id": "hwaGq0ZbCaaO"
      },
      "source": [
        "dados=np.array([1, 2.5, 7, -78, -0.9, 130, 25])"
      ],
      "execution_count": 4,
      "outputs": []
    },
    {
      "cell_type": "code",
      "metadata": {
        "colab": {
          "base_uri": "https://localhost:8080/"
        },
        "id": "L-9sdQAnC_Yx",
        "outputId": "446b4090-8b0a-4566-97e0-a1b6b80fa556"
      },
      "source": [
        "dados.dtype"
      ],
      "execution_count": 5,
      "outputs": [
        {
          "output_type": "execute_result",
          "data": {
            "text/plain": [
              "dtype('float64')"
            ]
          },
          "metadata": {},
          "execution_count": 5
        }
      ]
    },
    {
      "cell_type": "code",
      "metadata": {
        "colab": {
          "base_uri": "https://localhost:8080/"
        },
        "id": "OYZQLQttDIZs",
        "outputId": "a51d72ab-bd24-47ef-9b4a-6c5f77c9e44d"
      },
      "source": [
        "dados"
      ],
      "execution_count": 6,
      "outputs": [
        {
          "output_type": "execute_result",
          "data": {
            "text/plain": [
              "array([  1. ,   2.5,   7. , -78. ,  -0.9, 130. ,  25. ])"
            ]
          },
          "metadata": {},
          "execution_count": 6
        }
      ]
    },
    {
      "cell_type": "markdown",
      "metadata": {
        "id": "Z506GoshDQqY"
      },
      "source": [
        "###3 - Crie um NDArray com os valores de 0 a 10"
      ]
    },
    {
      "cell_type": "code",
      "metadata": {
        "id": "MmiFWB99DMMU"
      },
      "source": [
        "dados2=np.array([0,1,2,3,4,5,6,7,8,9,10])"
      ],
      "execution_count": 13,
      "outputs": []
    },
    {
      "cell_type": "code",
      "metadata": {
        "colab": {
          "base_uri": "https://localhost:8080/"
        },
        "id": "f5coWk-3DjF6",
        "outputId": "ac557ecf-1597-44e7-91a5-5e432c9784d1"
      },
      "source": [
        "dados2"
      ],
      "execution_count": 22,
      "outputs": [
        {
          "output_type": "execute_result",
          "data": {
            "text/plain": [
              "array([ 0,  1,  2,  3,  4,  5,  6,  7,  8,  9, 10])"
            ]
          },
          "metadata": {},
          "execution_count": 22
        }
      ]
    },
    {
      "cell_type": "code",
      "metadata": {
        "id": "e5W8Q5tIFnDt"
      },
      "source": [
        "dados3=np.arange(11)"
      ],
      "execution_count": 23,
      "outputs": []
    },
    {
      "cell_type": "code",
      "metadata": {
        "colab": {
          "base_uri": "https://localhost:8080/"
        },
        "id": "P_6DyeEDFuaR",
        "outputId": "3248cea2-f01a-4fda-cbca-c587745d03f3"
      },
      "source": [
        "dados3"
      ],
      "execution_count": 24,
      "outputs": [
        {
          "output_type": "execute_result",
          "data": {
            "text/plain": [
              "array([ 0,  1,  2,  3,  4,  5,  6,  7,  8,  9, 10])"
            ]
          },
          "metadata": {},
          "execution_count": 24
        }
      ]
    },
    {
      "cell_type": "markdown",
      "metadata": {
        "id": "3Ya6vfQfEG0q"
      },
      "source": [
        "###4 – Crie um NDArray de dimensão 2x5 com valores 1"
      ]
    },
    {
      "cell_type": "code",
      "metadata": {
        "id": "APxl--4_EI0H"
      },
      "source": [
        "dadosones=np.ones(1)"
      ],
      "execution_count": 16,
      "outputs": []
    },
    {
      "cell_type": "code",
      "metadata": {
        "id": "WSt1-9peEZUT"
      },
      "source": [
        "dadosones=np.ones((2,5))"
      ],
      "execution_count": 20,
      "outputs": []
    },
    {
      "cell_type": "code",
      "metadata": {
        "colab": {
          "base_uri": "https://localhost:8080/"
        },
        "id": "XGnIRZrNErCq",
        "outputId": "9ff9077a-6193-439d-d6ae-8f13986eeb58"
      },
      "source": [
        "dadosones"
      ],
      "execution_count": 21,
      "outputs": [
        {
          "output_type": "execute_result",
          "data": {
            "text/plain": [
              "array([[1., 1., 1., 1., 1.],\n",
              "       [1., 1., 1., 1., 1.]])"
            ]
          },
          "metadata": {},
          "execution_count": 21
        }
      ]
    },
    {
      "cell_type": "markdown",
      "metadata": {
        "id": "v3MTzbVzFCph"
      },
      "source": [
        "###5 – Crie um NDArray com valores de 1 a 100, com intervalos de 3 em 3."
      ]
    },
    {
      "cell_type": "code",
      "metadata": {
        "id": "tRTE-lanE8M9"
      },
      "source": [
        "dados4=np.arange(1,100,3)"
      ],
      "execution_count": 26,
      "outputs": []
    },
    {
      "cell_type": "code",
      "metadata": {
        "colab": {
          "base_uri": "https://localhost:8080/"
        },
        "id": "5JpSJzzkF6hf",
        "outputId": "9aca42de-b541-4974-ea72-d1336bbb7486"
      },
      "source": [
        "dados4"
      ],
      "execution_count": 55,
      "outputs": [
        {
          "output_type": "execute_result",
          "data": {
            "text/plain": [
              "array([ 1,  4,  7, 10, 13, 16, 19, 22, 25, 28, 31, 34, 37, 40, 43, 46, 49,\n",
              "       52, 55, 58, 61, 64, 67, 70, 73, 76, 79, 82, 85, 88, 91, 94, 97])"
            ]
          },
          "metadata": {},
          "execution_count": 55
        }
      ]
    },
    {
      "cell_type": "markdown",
      "metadata": {
        "id": "dJ7ZlZgHGG0O"
      },
      "source": [
        "###6 – Mostre as raízes quadradas dos valores do NDArray criado no exercícios 5."
      ]
    },
    {
      "cell_type": "code",
      "metadata": {
        "id": "T4sFr68YF-i6"
      },
      "source": [
        "dados5=dados4**2"
      ],
      "execution_count": 56,
      "outputs": []
    },
    {
      "cell_type": "code",
      "metadata": {
        "colab": {
          "base_uri": "https://localhost:8080/"
        },
        "id": "WXJmYPwuGfv7",
        "outputId": "da8a7ae1-7a22-4701-fa4e-45d3dedad632"
      },
      "source": [
        "dados5"
      ],
      "execution_count": 57,
      "outputs": [
        {
          "output_type": "execute_result",
          "data": {
            "text/plain": [
              "array([   1,   16,   49,  100,  169,  256,  361,  484,  625,  784,  961,\n",
              "       1156, 1369, 1600, 1849, 2116, 2401, 2704, 3025, 3364, 3721, 4096,\n",
              "       4489, 4900, 5329, 5776, 6241, 6724, 7225, 7744, 8281, 8836, 9409])"
            ]
          },
          "metadata": {},
          "execution_count": 57
        }
      ]
    },
    {
      "cell_type": "markdown",
      "metadata": {
        "id": "WoaAarapHGxk"
      },
      "source": [
        "###7 – Altere a décima posição do NDArray criado no exercício 5 com o dobro do seu valor."
      ]
    },
    {
      "cell_type": "code",
      "metadata": {
        "id": "EDEZZITzHj6B"
      },
      "source": [
        "dados5[9]=dados5[9]*2"
      ],
      "execution_count": 58,
      "outputs": []
    },
    {
      "cell_type": "code",
      "metadata": {
        "colab": {
          "base_uri": "https://localhost:8080/"
        },
        "id": "3WlggTKNHqPU",
        "outputId": "839549a3-8703-4f28-fa56-4e70bc59278d"
      },
      "source": [
        "dados5"
      ],
      "execution_count": 59,
      "outputs": [
        {
          "output_type": "execute_result",
          "data": {
            "text/plain": [
              "array([   1,   16,   49,  100,  169,  256,  361,  484,  625, 1568,  961,\n",
              "       1156, 1369, 1600, 1849, 2116, 2401, 2704, 3025, 3364, 3721, 4096,\n",
              "       4489, 4900, 5329, 5776, 6241, 6724, 7225, 7744, 8281, 8836, 9409])"
            ]
          },
          "metadata": {},
          "execution_count": 59
        }
      ]
    },
    {
      "cell_type": "markdown",
      "metadata": {
        "id": "XF5_zX-vK4qA"
      },
      "source": [
        "###8 – Execute o comando para criar um Dataframe com os dados disponíveis no notebook."
      ]
    },
    {
      "cell_type": "code",
      "metadata": {
        "id": "TNHCuOnKHAAP"
      },
      "source": [
        "dados={'Empresa':['Microsoft', 'Google','Univesp','NVData Analytics','Power Bi Experience','USP'], 'Qtde Func':[1000, 1500,500, 100,100,499], 'Site':['https://www.microsoft.com/pt-br','https://www.google.com/','https://univesp.br/','https://www.nvdata.com.br/','https://powerbiexperience.com/pt/','https://www.usp.br/'],'Instagram':['@microsoft','@google','@univespoficial','@nv_data','@leokarpa','@usp.oficial'],'Criação':[1975,1998,2012,2019,2016,1934], 'País':['EUA','EUA','Brasil','Brasil','Brasil','Brasil']}"
      ],
      "execution_count": 60,
      "outputs": []
    },
    {
      "cell_type": "code",
      "metadata": {
        "id": "Vg5ZOZWPHxQz"
      },
      "source": [
        "df1=pd.DataFrame(dados)"
      ],
      "execution_count": 61,
      "outputs": []
    },
    {
      "cell_type": "code",
      "metadata": {
        "colab": {
          "base_uri": "https://localhost:8080/",
          "height": 235
        },
        "id": "O2RdXB_WM4kb",
        "outputId": "3a834a74-d3ba-4969-da7e-259907a7e8f2"
      },
      "source": [
        "df1"
      ],
      "execution_count": 62,
      "outputs": [
        {
          "output_type": "execute_result",
          "data": {
            "text/html": [
              "<div>\n",
              "<style scoped>\n",
              "    .dataframe tbody tr th:only-of-type {\n",
              "        vertical-align: middle;\n",
              "    }\n",
              "\n",
              "    .dataframe tbody tr th {\n",
              "        vertical-align: top;\n",
              "    }\n",
              "\n",
              "    .dataframe thead th {\n",
              "        text-align: right;\n",
              "    }\n",
              "</style>\n",
              "<table border=\"1\" class=\"dataframe\">\n",
              "  <thead>\n",
              "    <tr style=\"text-align: right;\">\n",
              "      <th></th>\n",
              "      <th>Empresa</th>\n",
              "      <th>Qtde Func</th>\n",
              "      <th>Site</th>\n",
              "      <th>Instagram</th>\n",
              "      <th>Criação</th>\n",
              "      <th>País</th>\n",
              "    </tr>\n",
              "  </thead>\n",
              "  <tbody>\n",
              "    <tr>\n",
              "      <th>0</th>\n",
              "      <td>Microsoft</td>\n",
              "      <td>1000</td>\n",
              "      <td>https://www.microsoft.com/pt-br</td>\n",
              "      <td>@microsoft</td>\n",
              "      <td>1975</td>\n",
              "      <td>EUA</td>\n",
              "    </tr>\n",
              "    <tr>\n",
              "      <th>1</th>\n",
              "      <td>Google</td>\n",
              "      <td>1500</td>\n",
              "      <td>https://www.google.com/</td>\n",
              "      <td>@google</td>\n",
              "      <td>1998</td>\n",
              "      <td>EUA</td>\n",
              "    </tr>\n",
              "    <tr>\n",
              "      <th>2</th>\n",
              "      <td>Univesp</td>\n",
              "      <td>500</td>\n",
              "      <td>https://univesp.br/</td>\n",
              "      <td>@univespoficial</td>\n",
              "      <td>2012</td>\n",
              "      <td>Brasil</td>\n",
              "    </tr>\n",
              "    <tr>\n",
              "      <th>3</th>\n",
              "      <td>NVData Analytics</td>\n",
              "      <td>100</td>\n",
              "      <td>https://www.nvdata.com.br/</td>\n",
              "      <td>@nv_data</td>\n",
              "      <td>2019</td>\n",
              "      <td>Brasil</td>\n",
              "    </tr>\n",
              "    <tr>\n",
              "      <th>4</th>\n",
              "      <td>Power Bi Experience</td>\n",
              "      <td>100</td>\n",
              "      <td>https://powerbiexperience.com/pt/</td>\n",
              "      <td>@leokarpa</td>\n",
              "      <td>2016</td>\n",
              "      <td>Brasil</td>\n",
              "    </tr>\n",
              "    <tr>\n",
              "      <th>5</th>\n",
              "      <td>USP</td>\n",
              "      <td>499</td>\n",
              "      <td>https://www.usp.br/</td>\n",
              "      <td>@usp.oficial</td>\n",
              "      <td>1934</td>\n",
              "      <td>Brasil</td>\n",
              "    </tr>\n",
              "  </tbody>\n",
              "</table>\n",
              "</div>"
            ],
            "text/plain": [
              "               Empresa  Qtde Func  ... Criação    País\n",
              "0            Microsoft       1000  ...    1975     EUA\n",
              "1               Google       1500  ...    1998     EUA\n",
              "2              Univesp        500  ...    2012  Brasil\n",
              "3     NVData Analytics        100  ...    2019  Brasil\n",
              "4  Power Bi Experience        100  ...    2016  Brasil\n",
              "5                  USP        499  ...    1934  Brasil\n",
              "\n",
              "[6 rows x 6 columns]"
            ]
          },
          "metadata": {},
          "execution_count": 62
        }
      ]
    },
    {
      "cell_type": "markdown",
      "metadata": {
        "id": "ai4MNelzM985"
      },
      "source": [
        "###9 – Execute um comando que seja possível identificar qual a média da quantidade de funcionários que as empresas listadas tem. Informe também a soma dos funcionários que as empresas tem."
      ]
    },
    {
      "cell_type": "code",
      "metadata": {
        "id": "j3XkC7gLNn7J"
      },
      "source": [
        "df2=df1"
      ],
      "execution_count": 63,
      "outputs": []
    },
    {
      "cell_type": "code",
      "metadata": {
        "colab": {
          "base_uri": "https://localhost:8080/",
          "height": 235
        },
        "id": "172ZxcldOZ1_",
        "outputId": "daf07187-57ea-47f4-c79b-0a0af1b9789c"
      },
      "source": [
        "df2"
      ],
      "execution_count": 66,
      "outputs": [
        {
          "output_type": "execute_result",
          "data": {
            "text/html": [
              "<div>\n",
              "<style scoped>\n",
              "    .dataframe tbody tr th:only-of-type {\n",
              "        vertical-align: middle;\n",
              "    }\n",
              "\n",
              "    .dataframe tbody tr th {\n",
              "        vertical-align: top;\n",
              "    }\n",
              "\n",
              "    .dataframe thead th {\n",
              "        text-align: right;\n",
              "    }\n",
              "</style>\n",
              "<table border=\"1\" class=\"dataframe\">\n",
              "  <thead>\n",
              "    <tr style=\"text-align: right;\">\n",
              "      <th></th>\n",
              "      <th>Empresa</th>\n",
              "      <th>Qtde Func</th>\n",
              "      <th>Site</th>\n",
              "      <th>Instagram</th>\n",
              "      <th>Criação</th>\n",
              "      <th>País</th>\n",
              "    </tr>\n",
              "  </thead>\n",
              "  <tbody>\n",
              "    <tr>\n",
              "      <th>0</th>\n",
              "      <td>Microsoft</td>\n",
              "      <td>1000</td>\n",
              "      <td>https://www.microsoft.com/pt-br</td>\n",
              "      <td>@microsoft</td>\n",
              "      <td>1975</td>\n",
              "      <td>EUA</td>\n",
              "    </tr>\n",
              "    <tr>\n",
              "      <th>1</th>\n",
              "      <td>Google</td>\n",
              "      <td>1500</td>\n",
              "      <td>https://www.google.com/</td>\n",
              "      <td>@google</td>\n",
              "      <td>1998</td>\n",
              "      <td>EUA</td>\n",
              "    </tr>\n",
              "    <tr>\n",
              "      <th>2</th>\n",
              "      <td>Univesp</td>\n",
              "      <td>500</td>\n",
              "      <td>https://univesp.br/</td>\n",
              "      <td>@univespoficial</td>\n",
              "      <td>2012</td>\n",
              "      <td>Brasil</td>\n",
              "    </tr>\n",
              "    <tr>\n",
              "      <th>3</th>\n",
              "      <td>NVData Analytics</td>\n",
              "      <td>100</td>\n",
              "      <td>https://www.nvdata.com.br/</td>\n",
              "      <td>@nv_data</td>\n",
              "      <td>2019</td>\n",
              "      <td>Brasil</td>\n",
              "    </tr>\n",
              "    <tr>\n",
              "      <th>4</th>\n",
              "      <td>Power Bi Experience</td>\n",
              "      <td>100</td>\n",
              "      <td>https://powerbiexperience.com/pt/</td>\n",
              "      <td>@leokarpa</td>\n",
              "      <td>2016</td>\n",
              "      <td>Brasil</td>\n",
              "    </tr>\n",
              "    <tr>\n",
              "      <th>5</th>\n",
              "      <td>USP</td>\n",
              "      <td>499</td>\n",
              "      <td>https://www.usp.br/</td>\n",
              "      <td>@usp.oficial</td>\n",
              "      <td>1934</td>\n",
              "      <td>Brasil</td>\n",
              "    </tr>\n",
              "  </tbody>\n",
              "</table>\n",
              "</div>"
            ],
            "text/plain": [
              "               Empresa  Qtde Func  ... Criação    País\n",
              "0            Microsoft       1000  ...    1975     EUA\n",
              "1               Google       1500  ...    1998     EUA\n",
              "2              Univesp        500  ...    2012  Brasil\n",
              "3     NVData Analytics        100  ...    2019  Brasil\n",
              "4  Power Bi Experience        100  ...    2016  Brasil\n",
              "5                  USP        499  ...    1934  Brasil\n",
              "\n",
              "[6 rows x 6 columns]"
            ]
          },
          "metadata": {},
          "execution_count": 66
        }
      ]
    },
    {
      "cell_type": "code",
      "metadata": {
        "colab": {
          "base_uri": "https://localhost:8080/"
        },
        "id": "SDqlDtgaORky",
        "outputId": "1df148f7-28ba-41b0-e18f-282618bc4907"
      },
      "source": [
        "df2['Qtde Func']"
      ],
      "execution_count": 68,
      "outputs": [
        {
          "output_type": "execute_result",
          "data": {
            "text/plain": [
              "0    1000\n",
              "1    1500\n",
              "2     500\n",
              "3     100\n",
              "4     100\n",
              "5     499\n",
              "Name: Qtde Func, dtype: int64"
            ]
          },
          "metadata": {},
          "execution_count": 68
        }
      ]
    },
    {
      "cell_type": "code",
      "metadata": {
        "id": "SUHa2PFLPBPc"
      },
      "source": [
        "mean_df = df2['Qtde Func'].mean()"
      ],
      "execution_count": 69,
      "outputs": []
    },
    {
      "cell_type": "code",
      "metadata": {
        "colab": {
          "base_uri": "https://localhost:8080/"
        },
        "id": "YH7cp_RaPFtN",
        "outputId": "22418212-b406-44de-c380-ba6a3236c27c"
      },
      "source": [
        "mean_df"
      ],
      "execution_count": 70,
      "outputs": [
        {
          "output_type": "execute_result",
          "data": {
            "text/plain": [
              "616.5"
            ]
          },
          "metadata": {},
          "execution_count": 70
        }
      ]
    },
    {
      "cell_type": "code",
      "metadata": {
        "colab": {
          "base_uri": "https://localhost:8080/"
        },
        "id": "w7cKgQJiTwlJ",
        "outputId": "938fd8b6-4569-4c77-ff2e-9b672e4a083f"
      },
      "source": [
        "df2['Qtde Func'].sum()"
      ],
      "execution_count": 99,
      "outputs": [
        {
          "output_type": "execute_result",
          "data": {
            "text/plain": [
              "3699"
            ]
          },
          "metadata": {},
          "execution_count": 99
        }
      ]
    },
    {
      "cell_type": "markdown",
      "metadata": {
        "id": "__G6-rLINAAp"
      },
      "source": [
        "###10 – Mostre as primeiras 3 linhas do dataframe."
      ]
    },
    {
      "cell_type": "code",
      "metadata": {
        "colab": {
          "base_uri": "https://localhost:8080/",
          "height": 142
        },
        "id": "lBpnMfWNNuET",
        "outputId": "195b553c-1b4a-4ada-a005-68100a816a25"
      },
      "source": [
        "df1.head(3)"
      ],
      "execution_count": 71,
      "outputs": [
        {
          "output_type": "execute_result",
          "data": {
            "text/html": [
              "<div>\n",
              "<style scoped>\n",
              "    .dataframe tbody tr th:only-of-type {\n",
              "        vertical-align: middle;\n",
              "    }\n",
              "\n",
              "    .dataframe tbody tr th {\n",
              "        vertical-align: top;\n",
              "    }\n",
              "\n",
              "    .dataframe thead th {\n",
              "        text-align: right;\n",
              "    }\n",
              "</style>\n",
              "<table border=\"1\" class=\"dataframe\">\n",
              "  <thead>\n",
              "    <tr style=\"text-align: right;\">\n",
              "      <th></th>\n",
              "      <th>Empresa</th>\n",
              "      <th>Qtde Func</th>\n",
              "      <th>Site</th>\n",
              "      <th>Instagram</th>\n",
              "      <th>Criação</th>\n",
              "      <th>País</th>\n",
              "    </tr>\n",
              "  </thead>\n",
              "  <tbody>\n",
              "    <tr>\n",
              "      <th>0</th>\n",
              "      <td>Microsoft</td>\n",
              "      <td>1000</td>\n",
              "      <td>https://www.microsoft.com/pt-br</td>\n",
              "      <td>@microsoft</td>\n",
              "      <td>1975</td>\n",
              "      <td>EUA</td>\n",
              "    </tr>\n",
              "    <tr>\n",
              "      <th>1</th>\n",
              "      <td>Google</td>\n",
              "      <td>1500</td>\n",
              "      <td>https://www.google.com/</td>\n",
              "      <td>@google</td>\n",
              "      <td>1998</td>\n",
              "      <td>EUA</td>\n",
              "    </tr>\n",
              "    <tr>\n",
              "      <th>2</th>\n",
              "      <td>Univesp</td>\n",
              "      <td>500</td>\n",
              "      <td>https://univesp.br/</td>\n",
              "      <td>@univespoficial</td>\n",
              "      <td>2012</td>\n",
              "      <td>Brasil</td>\n",
              "    </tr>\n",
              "  </tbody>\n",
              "</table>\n",
              "</div>"
            ],
            "text/plain": [
              "     Empresa  Qtde Func  ... Criação    País\n",
              "0  Microsoft       1000  ...    1975     EUA\n",
              "1     Google       1500  ...    1998     EUA\n",
              "2    Univesp        500  ...    2012  Brasil\n",
              "\n",
              "[3 rows x 6 columns]"
            ]
          },
          "metadata": {},
          "execution_count": 71
        }
      ]
    },
    {
      "cell_type": "markdown",
      "metadata": {
        "id": "p2urtPobNE95"
      },
      "source": [
        "###11 – Mostre as últimas 3 linhas do dataframe."
      ]
    },
    {
      "cell_type": "code",
      "metadata": {
        "colab": {
          "base_uri": "https://localhost:8080/",
          "height": 142
        },
        "id": "3OdQWccPN5mK",
        "outputId": "66632346-af6f-4c4b-ce1c-65cc8ffa6a46"
      },
      "source": [
        "df1.tail(3)"
      ],
      "execution_count": 72,
      "outputs": [
        {
          "output_type": "execute_result",
          "data": {
            "text/html": [
              "<div>\n",
              "<style scoped>\n",
              "    .dataframe tbody tr th:only-of-type {\n",
              "        vertical-align: middle;\n",
              "    }\n",
              "\n",
              "    .dataframe tbody tr th {\n",
              "        vertical-align: top;\n",
              "    }\n",
              "\n",
              "    .dataframe thead th {\n",
              "        text-align: right;\n",
              "    }\n",
              "</style>\n",
              "<table border=\"1\" class=\"dataframe\">\n",
              "  <thead>\n",
              "    <tr style=\"text-align: right;\">\n",
              "      <th></th>\n",
              "      <th>Empresa</th>\n",
              "      <th>Qtde Func</th>\n",
              "      <th>Site</th>\n",
              "      <th>Instagram</th>\n",
              "      <th>Criação</th>\n",
              "      <th>País</th>\n",
              "    </tr>\n",
              "  </thead>\n",
              "  <tbody>\n",
              "    <tr>\n",
              "      <th>3</th>\n",
              "      <td>NVData Analytics</td>\n",
              "      <td>100</td>\n",
              "      <td>https://www.nvdata.com.br/</td>\n",
              "      <td>@nv_data</td>\n",
              "      <td>2019</td>\n",
              "      <td>Brasil</td>\n",
              "    </tr>\n",
              "    <tr>\n",
              "      <th>4</th>\n",
              "      <td>Power Bi Experience</td>\n",
              "      <td>100</td>\n",
              "      <td>https://powerbiexperience.com/pt/</td>\n",
              "      <td>@leokarpa</td>\n",
              "      <td>2016</td>\n",
              "      <td>Brasil</td>\n",
              "    </tr>\n",
              "    <tr>\n",
              "      <th>5</th>\n",
              "      <td>USP</td>\n",
              "      <td>499</td>\n",
              "      <td>https://www.usp.br/</td>\n",
              "      <td>@usp.oficial</td>\n",
              "      <td>1934</td>\n",
              "      <td>Brasil</td>\n",
              "    </tr>\n",
              "  </tbody>\n",
              "</table>\n",
              "</div>"
            ],
            "text/plain": [
              "               Empresa  Qtde Func  ... Criação    País\n",
              "3     NVData Analytics        100  ...    2019  Brasil\n",
              "4  Power Bi Experience        100  ...    2016  Brasil\n",
              "5                  USP        499  ...    1934  Brasil\n",
              "\n",
              "[3 rows x 6 columns]"
            ]
          },
          "metadata": {},
          "execution_count": 72
        }
      ]
    },
    {
      "cell_type": "markdown",
      "metadata": {
        "id": "bCb3Mu4vNIOt"
      },
      "source": [
        "###12 – Liste apenas as linhas em que as empresas foram criadas nos últimos 10 anos. Informe a quantidade de registros."
      ]
    },
    {
      "cell_type": "code",
      "metadata": {
        "colab": {
          "base_uri": "https://localhost:8080/",
          "height": 142
        },
        "id": "W4Hhti91PXty",
        "outputId": "a85fe7f5-b826-4d84-a309-9d1b476af2be"
      },
      "source": [
        "df3=df1[df1['Criação']>(2021-10)]\n",
        "df3"
      ],
      "execution_count": 77,
      "outputs": [
        {
          "output_type": "execute_result",
          "data": {
            "text/html": [
              "<div>\n",
              "<style scoped>\n",
              "    .dataframe tbody tr th:only-of-type {\n",
              "        vertical-align: middle;\n",
              "    }\n",
              "\n",
              "    .dataframe tbody tr th {\n",
              "        vertical-align: top;\n",
              "    }\n",
              "\n",
              "    .dataframe thead th {\n",
              "        text-align: right;\n",
              "    }\n",
              "</style>\n",
              "<table border=\"1\" class=\"dataframe\">\n",
              "  <thead>\n",
              "    <tr style=\"text-align: right;\">\n",
              "      <th></th>\n",
              "      <th>Empresa</th>\n",
              "      <th>Qtde Func</th>\n",
              "      <th>Site</th>\n",
              "      <th>Instagram</th>\n",
              "      <th>Criação</th>\n",
              "      <th>País</th>\n",
              "    </tr>\n",
              "  </thead>\n",
              "  <tbody>\n",
              "    <tr>\n",
              "      <th>2</th>\n",
              "      <td>Univesp</td>\n",
              "      <td>500</td>\n",
              "      <td>https://univesp.br/</td>\n",
              "      <td>@univespoficial</td>\n",
              "      <td>2012</td>\n",
              "      <td>Brasil</td>\n",
              "    </tr>\n",
              "    <tr>\n",
              "      <th>3</th>\n",
              "      <td>NVData Analytics</td>\n",
              "      <td>100</td>\n",
              "      <td>https://www.nvdata.com.br/</td>\n",
              "      <td>@nv_data</td>\n",
              "      <td>2019</td>\n",
              "      <td>Brasil</td>\n",
              "    </tr>\n",
              "    <tr>\n",
              "      <th>4</th>\n",
              "      <td>Power Bi Experience</td>\n",
              "      <td>100</td>\n",
              "      <td>https://powerbiexperience.com/pt/</td>\n",
              "      <td>@leokarpa</td>\n",
              "      <td>2016</td>\n",
              "      <td>Brasil</td>\n",
              "    </tr>\n",
              "  </tbody>\n",
              "</table>\n",
              "</div>"
            ],
            "text/plain": [
              "               Empresa  Qtde Func  ... Criação    País\n",
              "2              Univesp        500  ...    2012  Brasil\n",
              "3     NVData Analytics        100  ...    2019  Brasil\n",
              "4  Power Bi Experience        100  ...    2016  Brasil\n",
              "\n",
              "[3 rows x 6 columns]"
            ]
          },
          "metadata": {},
          "execution_count": 77
        }
      ]
    },
    {
      "cell_type": "code",
      "metadata": {
        "colab": {
          "base_uri": "https://localhost:8080/"
        },
        "id": "jFYQz344Q5yt",
        "outputId": "64436c1b-0c88-4843-9009-9f531eed856e"
      },
      "source": [
        "df3.count()"
      ],
      "execution_count": 78,
      "outputs": [
        {
          "output_type": "execute_result",
          "data": {
            "text/plain": [
              "Empresa      3\n",
              "Qtde Func    3\n",
              "Site         3\n",
              "Instagram    3\n",
              "Criação      3\n",
              "País         3\n",
              "dtype: int64"
            ]
          },
          "metadata": {},
          "execution_count": 78
        }
      ]
    },
    {
      "cell_type": "code",
      "metadata": {
        "colab": {
          "base_uri": "https://localhost:8080/"
        },
        "id": "0Q2enLC6RBHp",
        "outputId": "f8488832-98d7-450f-a072-9361c8e48851"
      },
      "source": [
        "df3.shape"
      ],
      "execution_count": 81,
      "outputs": [
        {
          "output_type": "execute_result",
          "data": {
            "text/plain": [
              "(3, 6)"
            ]
          },
          "metadata": {},
          "execution_count": 81
        }
      ]
    },
    {
      "cell_type": "markdown",
      "metadata": {
        "id": "ZSOWHqIeNNIx"
      },
      "source": [
        "###13 – Vamos imaginar que em todas as empresas exista 1 chefe para cada 23 funcionários. Crie uma coluna que mostre a quantidade de chefes que cada empresa teria e depois informe quantos chefes teríamos ao todo. (os valores não precisam ser números inteiros, é apenas uma estimativa)."
      ]
    },
    {
      "cell_type": "code",
      "metadata": {
        "id": "w1-bB-MWRq8I"
      },
      "source": [
        "df1['Chefes']=df1['Qtde Func']/23"
      ],
      "execution_count": 95,
      "outputs": []
    },
    {
      "cell_type": "code",
      "metadata": {
        "colab": {
          "base_uri": "https://localhost:8080/",
          "height": 235
        },
        "id": "Iv7ugCcnR5fb",
        "outputId": "8fcaeae2-6246-4f8c-d488-659b1cf42202"
      },
      "source": [
        "df1"
      ],
      "execution_count": 96,
      "outputs": [
        {
          "output_type": "execute_result",
          "data": {
            "text/html": [
              "<div>\n",
              "<style scoped>\n",
              "    .dataframe tbody tr th:only-of-type {\n",
              "        vertical-align: middle;\n",
              "    }\n",
              "\n",
              "    .dataframe tbody tr th {\n",
              "        vertical-align: top;\n",
              "    }\n",
              "\n",
              "    .dataframe thead th {\n",
              "        text-align: right;\n",
              "    }\n",
              "</style>\n",
              "<table border=\"1\" class=\"dataframe\">\n",
              "  <thead>\n",
              "    <tr style=\"text-align: right;\">\n",
              "      <th></th>\n",
              "      <th>Empresa</th>\n",
              "      <th>Qtde Func</th>\n",
              "      <th>Site</th>\n",
              "      <th>Instagram</th>\n",
              "      <th>Criação</th>\n",
              "      <th>País</th>\n",
              "      <th>Chefes</th>\n",
              "    </tr>\n",
              "  </thead>\n",
              "  <tbody>\n",
              "    <tr>\n",
              "      <th>0</th>\n",
              "      <td>Microsoft</td>\n",
              "      <td>1000</td>\n",
              "      <td>https://www.microsoft.com/pt-br</td>\n",
              "      <td>@microsoft</td>\n",
              "      <td>1975</td>\n",
              "      <td>EUA</td>\n",
              "      <td>43.478261</td>\n",
              "    </tr>\n",
              "    <tr>\n",
              "      <th>1</th>\n",
              "      <td>Google</td>\n",
              "      <td>1500</td>\n",
              "      <td>https://www.google.com/</td>\n",
              "      <td>@google</td>\n",
              "      <td>1998</td>\n",
              "      <td>EUA</td>\n",
              "      <td>65.217391</td>\n",
              "    </tr>\n",
              "    <tr>\n",
              "      <th>2</th>\n",
              "      <td>Univesp</td>\n",
              "      <td>500</td>\n",
              "      <td>https://univesp.br/</td>\n",
              "      <td>@univespoficial</td>\n",
              "      <td>2012</td>\n",
              "      <td>Brasil</td>\n",
              "      <td>21.739130</td>\n",
              "    </tr>\n",
              "    <tr>\n",
              "      <th>3</th>\n",
              "      <td>NVData Analytics</td>\n",
              "      <td>100</td>\n",
              "      <td>https://www.nvdata.com.br/</td>\n",
              "      <td>@nv_data</td>\n",
              "      <td>2019</td>\n",
              "      <td>Brasil</td>\n",
              "      <td>4.347826</td>\n",
              "    </tr>\n",
              "    <tr>\n",
              "      <th>4</th>\n",
              "      <td>Power Bi Experience</td>\n",
              "      <td>100</td>\n",
              "      <td>https://powerbiexperience.com/pt/</td>\n",
              "      <td>@leokarpa</td>\n",
              "      <td>2016</td>\n",
              "      <td>Brasil</td>\n",
              "      <td>4.347826</td>\n",
              "    </tr>\n",
              "    <tr>\n",
              "      <th>5</th>\n",
              "      <td>USP</td>\n",
              "      <td>499</td>\n",
              "      <td>https://www.usp.br/</td>\n",
              "      <td>@usp.oficial</td>\n",
              "      <td>1934</td>\n",
              "      <td>Brasil</td>\n",
              "      <td>21.695652</td>\n",
              "    </tr>\n",
              "  </tbody>\n",
              "</table>\n",
              "</div>"
            ],
            "text/plain": [
              "               Empresa  Qtde Func  ...    País     Chefes\n",
              "0            Microsoft       1000  ...     EUA  43.478261\n",
              "1               Google       1500  ...     EUA  65.217391\n",
              "2              Univesp        500  ...  Brasil  21.739130\n",
              "3     NVData Analytics        100  ...  Brasil   4.347826\n",
              "4  Power Bi Experience        100  ...  Brasil   4.347826\n",
              "5                  USP        499  ...  Brasil  21.695652\n",
              "\n",
              "[6 rows x 7 columns]"
            ]
          },
          "metadata": {},
          "execution_count": 96
        }
      ]
    },
    {
      "cell_type": "code",
      "metadata": {
        "colab": {
          "base_uri": "https://localhost:8080/"
        },
        "id": "4ngTrA_6RsTd",
        "outputId": "0e2963ad-3538-4dfb-fd65-b26680727848"
      },
      "source": [
        "df1.Chefes.sum()"
      ],
      "execution_count": 97,
      "outputs": [
        {
          "output_type": "execute_result",
          "data": {
            "text/plain": [
              "160.82608695652175"
            ]
          },
          "metadata": {},
          "execution_count": 97
        }
      ]
    }
  ]
}